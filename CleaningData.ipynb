{
 "cells": [
  {
   "cell_type": "code",
   "execution_count": 409,
   "metadata": {},
   "outputs": [],
   "source": [
    "import pandas as pd\n",
    "import numpy as np\n",
    "import matplotlib.pyplot as plt "
   ]
  },
  {
   "cell_type": "code",
   "execution_count": 410,
   "metadata": {},
   "outputs": [
    {
     "data": {
      "text/html": [
       "<div>\n",
       "<style scoped>\n",
       "    .dataframe tbody tr th:only-of-type {\n",
       "        vertical-align: middle;\n",
       "    }\n",
       "\n",
       "    .dataframe tbody tr th {\n",
       "        vertical-align: top;\n",
       "    }\n",
       "\n",
       "    .dataframe thead th {\n",
       "        text-align: right;\n",
       "    }\n",
       "</style>\n",
       "<table border=\"1\" class=\"dataframe\">\n",
       "  <thead>\n",
       "    <tr style=\"text-align: right;\">\n",
       "      <th></th>\n",
       "      <th>id</th>\n",
       "      <th>discourse_id</th>\n",
       "      <th>discourse_start</th>\n",
       "      <th>discourse_end</th>\n",
       "      <th>discourse_text</th>\n",
       "      <th>discourse_type</th>\n",
       "      <th>discourse_type_num</th>\n",
       "      <th>predictionstring</th>\n",
       "    </tr>\n",
       "  </thead>\n",
       "  <tbody>\n",
       "    <tr>\n",
       "      <th>0</th>\n",
       "      <td>423A1CA112E2</td>\n",
       "      <td>1.622628e+12</td>\n",
       "      <td>8.0</td>\n",
       "      <td>229.0</td>\n",
       "      <td>Modern humans today are always on their phone....</td>\n",
       "      <td>Lead</td>\n",
       "      <td>Lead 1</td>\n",
       "      <td>1 2 3 4 5 6 7 8 9 10 11 12 13 14 15 16 17 18 1...</td>\n",
       "    </tr>\n",
       "    <tr>\n",
       "      <th>1</th>\n",
       "      <td>423A1CA112E2</td>\n",
       "      <td>1.622628e+12</td>\n",
       "      <td>230.0</td>\n",
       "      <td>312.0</td>\n",
       "      <td>They are some really bad consequences when stu...</td>\n",
       "      <td>Position</td>\n",
       "      <td>Position 1</td>\n",
       "      <td>45 46 47 48 49 50 51 52 53 54 55 56 57 58 59</td>\n",
       "    </tr>\n",
       "    <tr>\n",
       "      <th>2</th>\n",
       "      <td>423A1CA112E2</td>\n",
       "      <td>1.622628e+12</td>\n",
       "      <td>313.0</td>\n",
       "      <td>401.0</td>\n",
       "      <td>Some certain areas in the United States ban ph...</td>\n",
       "      <td>Evidence</td>\n",
       "      <td>Evidence 1</td>\n",
       "      <td>60 61 62 63 64 65 66 67 68 69 70 71 72 73 74 75</td>\n",
       "    </tr>\n",
       "    <tr>\n",
       "      <th>3</th>\n",
       "      <td>423A1CA112E2</td>\n",
       "      <td>1.622628e+12</td>\n",
       "      <td>402.0</td>\n",
       "      <td>758.0</td>\n",
       "      <td>When people have phones, they know about certa...</td>\n",
       "      <td>Evidence</td>\n",
       "      <td>Evidence 2</td>\n",
       "      <td>76 77 78 79 80 81 82 83 84 85 86 87 88 89 90 9...</td>\n",
       "    </tr>\n",
       "    <tr>\n",
       "      <th>4</th>\n",
       "      <td>423A1CA112E2</td>\n",
       "      <td>1.622628e+12</td>\n",
       "      <td>759.0</td>\n",
       "      <td>886.0</td>\n",
       "      <td>Driving is one of the way how to get around. P...</td>\n",
       "      <td>Claim</td>\n",
       "      <td>Claim 1</td>\n",
       "      <td>139 140 141 142 143 144 145 146 147 148 149 15...</td>\n",
       "    </tr>\n",
       "  </tbody>\n",
       "</table>\n",
       "</div>"
      ],
      "text/plain": [
       "             id  discourse_id  discourse_start  discourse_end  \\\n",
       "0  423A1CA112E2  1.622628e+12              8.0          229.0   \n",
       "1  423A1CA112E2  1.622628e+12            230.0          312.0   \n",
       "2  423A1CA112E2  1.622628e+12            313.0          401.0   \n",
       "3  423A1CA112E2  1.622628e+12            402.0          758.0   \n",
       "4  423A1CA112E2  1.622628e+12            759.0          886.0   \n",
       "\n",
       "                                      discourse_text discourse_type  \\\n",
       "0  Modern humans today are always on their phone....           Lead   \n",
       "1  They are some really bad consequences when stu...       Position   \n",
       "2  Some certain areas in the United States ban ph...       Evidence   \n",
       "3  When people have phones, they know about certa...       Evidence   \n",
       "4  Driving is one of the way how to get around. P...          Claim   \n",
       "\n",
       "  discourse_type_num                                   predictionstring  \n",
       "0             Lead 1  1 2 3 4 5 6 7 8 9 10 11 12 13 14 15 16 17 18 1...  \n",
       "1         Position 1       45 46 47 48 49 50 51 52 53 54 55 56 57 58 59  \n",
       "2         Evidence 1    60 61 62 63 64 65 66 67 68 69 70 71 72 73 74 75  \n",
       "3         Evidence 2  76 77 78 79 80 81 82 83 84 85 86 87 88 89 90 9...  \n",
       "4            Claim 1  139 140 141 142 143 144 145 146 147 148 149 15...  "
      ]
     },
     "execution_count": 410,
     "metadata": {},
     "output_type": "execute_result"
    }
   ],
   "source": [
    "train_data = pd.read_csv('C:/Users/kkara/OneDrive/Documents/GitHub/writing-evaluation/train.csv')\n",
    "train_data.head()"
   ]
  },
  {
   "cell_type": "code",
   "execution_count": 411,
   "metadata": {},
   "outputs": [
    {
     "data": {
      "text/plain": [
       "array(['Lead 1', 'Position 1', 'Evidence 1', 'Evidence 2', 'Claim 1',\n",
       "       'Evidence 3', 'Evidence 4', 'Claim 2', 'Evidence 5',\n",
       "       'Concluding Statement 1', 'Counterclaim 1', 'Rebuttal 1',\n",
       "       'Claim 3', 'Claim 4', 'Claim 5', 'Claim 6', 'Claim 7',\n",
       "       'Counterclaim 2', 'Rebuttal 2', 'Counterclaim 3', 'Rebuttal 3',\n",
       "       'Evidence 6', 'Lead 2', 'Counterclaim 4', 'Counterclaim 5',\n",
       "       'Counterclaim 6', 'Evidence 7', 'Claim 8', 'Evidence 8',\n",
       "       'Concluding Statement 2', 'Rebuttal 4', 'Rebuttal 5', 'Claim 9',\n",
       "       'Position 2', 'Claim 10', 'Claim 11', 'Claim 12', 'Evidence 9',\n",
       "       'Concluding Statement 3', 'Concluding Statement 4', 'Evidence 10',\n",
       "       'Evidence 11', 'Rebuttal 6', 'Evidence 12'], dtype=object)"
      ]
     },
     "execution_count": 411,
     "metadata": {},
     "output_type": "execute_result"
    }
   ],
   "source": [
    ">>> train_data.discourse_type_num.unique()"
   ]
  },
  {
   "cell_type": "code",
   "execution_count": 412,
   "metadata": {
    "scrolled": true
   },
   "outputs": [],
   "source": [
    "trIdUnique=train_data.id.unique()"
   ]
  },
  {
   "cell_type": "code",
   "execution_count": 413,
   "metadata": {},
   "outputs": [],
   "source": [
    "try:    \n",
    "    dexter=open('C:/Users/kkara/OneDrive/Desktop/dext.txt',\n",
    "           'w')\n",
    "except:\n",
    "    print('dir not found')"
   ]
  },
  {
   "cell_type": "code",
   "execution_count": 414,
   "metadata": {},
   "outputs": [
    {
     "data": {
      "text/plain": [
       "24"
      ]
     },
     "execution_count": 414,
     "metadata": {},
     "output_type": "execute_result"
    }
   ],
   "source": [
    "dexter.write('I want to make a file!:)')"
   ]
  },
  {
   "cell_type": "code",
   "execution_count": 415,
   "metadata": {},
   "outputs": [],
   "source": [
    "dexter.close()"
   ]
  },
  {
   "cell_type": "code",
   "execution_count": 416,
   "metadata": {},
   "outputs": [
    {
     "name": "stdout",
     "output_type": "stream",
     "text": [
      "\n"
     ]
    }
   ],
   "source": [
    "with open('C:/Users/kkara/OneDrive/Documents/GitHub/writing-evaluation/train/'+trIdUnique[0]+'.txt','r'      ) as ess1:\n",
    "    stress1=ess1.read()\n",
    "    print(ess1.read())\n"
   ]
  },
  {
   "cell_type": "code",
   "execution_count": 417,
   "metadata": {},
   "outputs": [
    {
     "name": "stdout",
     "output_type": "stream",
     "text": [
      "Operating a motor vehicle while on your cell phone\n",
      "\n",
      "Being on your device and driving could be an overly dangerous choice in life. Many people around the world are injured by this situation every day. It could lead to accidents and altercations. In addition it would even cost you your licences. The most detrimental outcome is death. There are far more outcomes to operating a motor vehicle while being on a cell phone. Drivers should not be able to use cell phones in any capacity while operating a motor vehicle.\n",
      "\n",
      "One leading cause to motor vehicle accidents is being on your cell phone. It could lead to accidents and altercations. Yourself and the passengers are more at risk to bodily injuries and harm. These bodily injuries and harm can range anywhere from mild to critical condition. In an motor vehicle accident there is more than one involved. There is another person or group of people that could have the exact same conditions than the driver on the cell phone. In an example of an altercations you could be more prone to damaging an building or such. An direct result of an event in place; a fee or very large payment would need to be made. Secondly another consequence could be having your license taken.\n",
      "\n",
      "When you have violated a driving law there will always be an consequence. Rather it being jail time, injuries, or more. Your license will be subjected to suspension. A suspended license defines as you are not able to drive until they are reinstated. The process can take anywhere from a short period of time or even a long period of time. The average time for a suspended license is sixty days.\n",
      "\n",
      "For some people if it is not your first offense they may even take your license for good. Furthermore there is another cause to driving while being on your cell phone.\n",
      "\n",
      "After all the consequences the most detrimental is death. Many people happen to pass away due to a motor vehicle car accident. Not all people pass away at the crash site, some has a condition mild to critical that causes them to die. Around 1.6\n",
      "\n",
      "million people a year die in motor vehicle accidents. Out of the 1.6 million, 1 out of 4 pass away because drivers are on their cell phone. That includes the driver and the unlucky few that may have been in the car, around, or in another car. Passing away from a motor vehicle accident can be prevented by simply waiting until you have reached a stopping point or your at your destination to pick up your phone.\n",
      "\n",
      "In conclusion, drivers should not be able to use cell phones in any capacity while operating a motor vehicle. It can cause accidents and altercations, suspension of license, and even death. Prevention is simply not being able to use your phone while operating a motor vehicle. Take a moment to focus on the road.\n",
      "\n",
      "You are able to check your phone when you reach a red light or a complete stop. This is one step closer to its prevention. It will save many lives even your own.   \n"
     ]
    }
   ],
   "source": [
    "with open('C:/Users/kkara/OneDrive/Documents/GitHub/writing-evaluation/train/'+trIdUnique[5]+'.txt','r'      ) as ess2:\n",
    "    stambler=ess2.read()\n",
    "    \n",
    "    print(stambler)\n"
   ]
  },
  {
   "cell_type": "code",
   "execution_count": 418,
   "metadata": {
    "scrolled": true
   },
   "outputs": [],
   "source": [
    "dexter=open('C:/Users/kkara/OneDrive/Desktop/dext.txt',\n",
    "           'r')"
   ]
  },
  {
   "cell_type": "code",
   "execution_count": 419,
   "metadata": {},
   "outputs": [],
   "source": [
    "stre=dexter.read()"
   ]
  },
  {
   "cell_type": "code",
   "execution_count": 420,
   "metadata": {},
   "outputs": [
    {
     "data": {
      "text/plain": [
       "-1"
      ]
     },
     "execution_count": 420,
     "metadata": {},
     "output_type": "execute_result"
    }
   ],
   "source": [
    "stre.find('two')"
   ]
  },
  {
   "cell_type": "code",
   "execution_count": 421,
   "metadata": {},
   "outputs": [
    {
     "data": {
      "text/plain": [
       "False"
      ]
     },
     "execution_count": 421,
     "metadata": {},
     "output_type": "execute_result"
    }
   ],
   "source": [
    ">>> stre[3]=='\\n'"
   ]
  },
  {
   "cell_type": "code",
   "execution_count": 646,
   "metadata": {},
   "outputs": [
    {
     "name": "stdout",
     "output_type": "stream",
     "text": [
      "4461\n",
      "4457\n",
      "4318\n",
      "True\n",
      "Fellow Citizens, there are many reasons why limiting car usgage has outstanding oppritunities and advantages.\n",
      "\n",
      "For an example, If there aren't people out there spending their hard earned money that they worked for, for an expensive car that they are just going to use to get to someplace faster when they could just stop being lazy for once and walk or run, ride bikes, hike, or take a bus, instead of spending money after money to fill a car up to just waste gas, and to fill it up again. Running, riding bikes, hiking, etc. gives you a chance to experience reality. Being outside gives people a chance to see the earths real beauty, and to smell the fresh air. Limiting car usage helps people stay in shape and keeps them healthy if their not just sitting in a car for half a hour when they could be running or walking.\n",
      "\n",
      "Residents in Vauban, Germany are permitted car ownership, but there are only two places to park : large garages at the edge of the development, where a car-owner buys a space, for $40,000, along with a home. About 70 percent of Vauban's families do not iwn cars, an about 57 percent sold a car to move there. Having a car makes peoples tense, and being in a place where there isnt alot of car usgae makes people much happier. People who live in places where cars arent used as oftn as other states, those towns place stores in walking distance, on a main street, rather than in malls along some distant highway.\n",
      "\n",
      "An amazing advantage that people can can from limiting the usage of cars is less drunk drivers, or even none. If there's less drunk drivers, there's less car crashes and less deaths. Everyone understands that you have to be 21 or older in most states to drink alcoholic beverages. The big adavntage out of this is, if older people were to get drunk, they would be forced to call a cab, or even walk home. Their not putting noone else's life in danger, and this would lower the crashes and death fatalities per year.\n",
      "\n",
      "As as many cars that there is in the world, all the use of them would probably pollute the world. Paris enforce a partial driving ban to clear the air of the global city after days of the near-record pollution.\n",
      "\n",
      "Limiting car usage gives you the oppritunity to be with your family and friends and spend more time with them then you normally would having a car. You can walk and talk with them on the way to work, you can stop by the park and have some fun on your way to the grocery store. The best part about this is, you dont have to worry about the roads being busy. You ca walk, run, hike, and bike without having to hear the noisy streets, the honking, the screeching, etc.\n",
      "\n",
      "What's the point in having a car that your just going to be wasting money on, when running, walking or riding a bike is free and even cheaper and safer than driving a car. What are you gonna do when your car breaks down? Are you gonna keep spending your money on when it keeps breaking? Why do that when you have two perfectly good and healthy legs and you can run or walk somewhere?\n",
      "\n",
      "Just take a moment to think about the fines every single person breathing in the world has received? Alot of money wasted on something idiotic huh? just imagine if every state, continents, islands, and places we dont know about all stopped using cars, or even just limited the car usage. We'd be saving a whole ton of money, we'd basically all be middle classes.\n",
      "\n",
      "This whole situation is a win-win, You get to be with your family 24/7, Running, walking, biking, hiking etc. is all an amazing way to keep people healthy. People dont have to worry about drunk drivers, or car crashes, or car fatalities. People can finally stop spending their hard earned money that they're just going keep spending and wasting on gasoline or to fix your car when its having problems and it breaks. Families can save the money that they would normally be spending on gasoline and start saving for a trip to take their family on to spend more time with them, or to take a trip for yourself.\n",
      "\n",
      "There are plently more reasons and outstanding advantages that limiting car usage gives you, but these are some of the very best! Just remember, The only good advantages a car can give you is getting you somewhere faster, and keeping you comfortable and safe. But they are also the most danagerous, and expensive things out there. They can take your life or someone elses in an instant, and they can put you in debt quicker than you know! Limitng car usage is for you!    \n"
     ]
    }
   ],
   "source": [
    "with open('C:/Users/kkara/OneDrive/Documents/GitHub/writing-evaluation/train/'+trIdUnique[1000]+'.txt','r',encoding='utf-8-sig'      ) as ess1:\n",
    "    stambler=ess1.read()\n",
    "    lastc=len(stambler)\n",
    "    print(len(stambler))\n",
    "    print(stambler.find('  '))\n",
    "    print(stambler.rfind('.'))\n",
    "    print(stambler[stambler.find('  '):lastc].isspace())\n",
    "    print(stambler)\n"
   ]
  },
  {
   "cell_type": "code",
   "execution_count": 423,
   "metadata": {},
   "outputs": [],
   "source": [
    "counto=0"
   ]
  },
  {
   "cell_type": "markdown",
   "metadata": {},
   "source": [
    "Now we will find in how many essays there are double spaces."
   ]
  },
  {
   "cell_type": "code",
   "execution_count": 645,
   "metadata": {},
   "outputs": [],
   "source": [
    "for index in range(len(trIdUnique)):\n",
    "    with open('C:/Users/kkara/OneDrive/Documents/GitHub/writing-evaluation/train/'+trIdUnique[5]+'.txt','r',encoding='utf-8-sig'      ) as ess1:\n",
    "        stambler=ess1.read()\n",
    "        lastc=len(stambler)\n",
    "        if (not (stambler[stambler.find('  '):lastc].isspace())):\n",
    "            counto+=1\n"
   ]
  },
  {
   "cell_type": "code",
   "execution_count": 425,
   "metadata": {},
   "outputs": [
    {
     "name": "stdout",
     "output_type": "stream",
     "text": [
      "0\n"
     ]
    }
   ],
   "source": [
    "print(counto)"
   ]
  },
  {
   "cell_type": "markdown",
   "metadata": {},
   "source": [
    "We don't need to worry about double spaces."
   ]
  },
  {
   "cell_type": "code",
   "execution_count": 426,
   "metadata": {},
   "outputs": [],
   "source": [
    "stringer='two\\n\\none'"
   ]
  },
  {
   "cell_type": "code",
   "execution_count": 427,
   "metadata": {},
   "outputs": [
    {
     "name": "stdout",
     "output_type": "stream",
     "text": [
      "two\n",
      "\n",
      "one\n"
     ]
    }
   ],
   "source": [
    "print(stringer)"
   ]
  },
  {
   "cell_type": "code",
   "execution_count": 428,
   "metadata": {},
   "outputs": [
    {
     "name": "stdout",
     "output_type": "stream",
     "text": [
      "8\n"
     ]
    }
   ],
   "source": [
    "print(len(stringer))"
   ]
  },
  {
   "cell_type": "code",
   "execution_count": 650,
   "metadata": {},
   "outputs": [
    {
     "name": "stdout",
     "output_type": "stream",
     "text": [
      "Fellow Citizens, there are many reasons why limiting car usgage has outstanding oppritunities and advantages.\n",
      "\n",
      "For an example, If there aren't people out there spending their hard earned money that they worked for, for an expensive car that they are just going to use to get to someplace faster when they could just stop being lazy for once and walk or run, ride bikes, hike, or take a bus, instead of spending money after money to fill a car up to just waste gas, and to fill it up again. Running, riding bikes, hiking, etc. gives you a chance to experience reality. Being outside gives people a chance to see the earths real beauty, and to smell the fresh air. Limiting car usage helps people stay in shape and keeps them healthy if their not just sitting in a car for half a hour when they could be running or walking.\n",
      "\n",
      "Residents in Vauban, Germany are permitted car ownership, but there are only two places to park : large garages at the edge of the development, where a car-owner buys a space, for $40,000, along with a home. About 70 percent of Vauban's families do not iwn cars, an about 57 percent sold a car to move there. Having a car makes peoples tense, and being in a place where there isnt alot of car usgae makes people much happier. People who live in places where cars arent used as oftn as other states, those towns place stores in walking distance, on a main street, rather than in malls along some distant highway.\n",
      "\n",
      "An amazing advantage that people can can from limiting the usage of cars is less drunk drivers, or even none. If there's less drunk drivers, there's less car crashes and less deaths. Everyone understands that you have to be 21 or older in most states to drink alcoholic beverages. The big adavntage out of this is, if older people were to get drunk, they would be forced to call a cab, or even walk home. Their not putting noone else's life in danger, and this would lower the crashes and death fatalities per year.\n",
      "\n",
      "As as many cars that there is in the world, all the use of them would probably pollute the world. Paris enforce a partial driving ban to clear the air of the global city after days of the near-record pollution.\n",
      "\n",
      "Limiting car usage gives you the oppritunity to be with your family and friends and spend more time with them then you normally would having a car. You can walk and talk with them on the way to work, you can stop by the park and have some fun on your way to the grocery store. The best part about this is, you dont have to worry about the roads being busy. You ca walk, run, hike, and bike without having to hear the noisy streets, the honking, the screeching, etc.\n",
      "\n",
      "What's the point in having a car that your just going to be wasting money on, when running, walking or riding a bike is free and even cheaper and safer than driving a car. What are you gonna do when your car breaks down? Are you gonna keep spending your money on when it keeps breaking? Why do that when you have two perfectly good and healthy legs and you can run or walk somewhere?\n",
      "\n",
      "Just take a moment to think about the fines every single person breathing in the world has received? Alot of money wasted on something idiotic huh? just imagine if every state, continents, islands, and places we dont know about all stopped using cars, or even just limited the car usage. We'd be saving a whole ton of money, we'd basically all be middle classes.\n",
      "\n",
      "This whole situation is a win-win, You get to be with your family 24/7, Running, walking, biking, hiking etc. is all an amazing way to keep people healthy. People dont have to worry about drunk drivers, or car crashes, or car fatalities. People can finally stop spending their hard earned money that they're just going keep spending and wasting on gasoline or to fix your car when its having problems and it breaks. Families can save the money that they would normally be spending on gasoline and start saving for a trip to take their family on to spend more time with them, or to take a trip for yourself.\n",
      "\n",
      "There are plently more reasons and outstanding advantages that limiting car usage gives you, but these are some of the very best! Just remember, The only good advantages a car can give you is getting you somewhere faster, and keeping you comfortable and safe. But they are also the most danagerous, and expensive things out there. They can take your life or someone elses in an instant, and they can put you in debt quicker than you know! Limitng car usage is for you!    \n"
     ]
    }
   ],
   "source": [
    "print(stambler)"
   ]
  },
  {
   "cell_type": "code",
   "execution_count": 430,
   "metadata": {},
   "outputs": [],
   "source": [
    "import nltk"
   ]
  },
  {
   "cell_type": "code",
   "execution_count": 431,
   "metadata": {},
   "outputs": [],
   "source": [
    "from nltk.metrics.distance import jaccard_distance\n",
    "from nltk.util import ngrams"
   ]
  },
  {
   "cell_type": "code",
   "execution_count": 432,
   "metadata": {},
   "outputs": [
    {
     "name": "stderr",
     "output_type": "stream",
     "text": [
      "[nltk_data] Downloading package words to\n",
      "[nltk_data]     C:\\Users\\kkara\\AppData\\Roaming\\nltk_data...\n",
      "[nltk_data]   Package words is already up-to-date!\n"
     ]
    },
    {
     "data": {
      "text/plain": [
       "True"
      ]
     },
     "execution_count": 432,
     "metadata": {},
     "output_type": "execute_result"
    }
   ],
   "source": [
    "from nltk.corpus import words\n",
    ">>> nltk.download('words')"
   ]
  },
  {
   "cell_type": "code",
   "execution_count": 433,
   "metadata": {},
   "outputs": [],
   "source": [
    "correct_words=words.words()"
   ]
  },
  {
   "cell_type": "code",
   "execution_count": 434,
   "metadata": {},
   "outputs": [
    {
     "name": "stdout",
     "output_type": "stream",
     "text": [
      "['accordantly', 'accorder', 'according', 'accordingly', 'accordion', 'accordionist', 'accorporate', 'accorporation', 'accost', 'accostable', 'accosted']\n"
     ]
    }
   ],
   "source": [
    "print(correct_words[1000:1011])"
   ]
  },
  {
   "cell_type": "code",
   "execution_count": 435,
   "metadata": {
    "collapsed": true
   },
   "outputs": [
    {
     "name": "stdout",
     "output_type": "stream",
     "text": [
      "Phones\n",
      "\n",
      "Modern humans today are always on their phone. They are always on their phone more than 5 hours a day no stop .All they do is text back and forward and just have group Chats on social media. They even do it while driving. They are some really bad consequences when stuff happens when it comes to a phone. Some certain areas in the United States ban phones from class rooms just because of it.\n",
      "\n",
      "When people have phones, they know about certain apps that they have .Apps like Facebook Twitter Instagram and Snapchat. So like if a friend moves away and you want to be in contact you can still be in contact by posting videos or text messages. People always have different ways how to communicate with a phone. Phones have changed due to our generation.\n",
      "\n",
      "Driving is one of the way how to get around. People always be on their phones while doing it. Which can cause serious Problems. That's why there's a thing that's called no texting while driving. That's a really important thing to remember. Some people still do it because they think It's stupid. No matter what they do they still have to obey it because that's the only way how did he save.\n",
      "\n",
      "Sometimes on the news there is either an accident or a suicide. It might involve someone not looking where they're going or tweet that someone sent. It either injury or death. If a mysterious number says I'm going to kill you and they know where you live but you don't know the person's contact\n",
      "\n",
      ",It makes you puzzled and make you start to freak out. Which can end up really badly.\n",
      "\n",
      "Phones are fine to use and it's also the best way to come over help. If you go through a problem and you can't find help you ,always have a phone there with you. Even though phones are used almost every day as long as you're safe it would come into use if you get into trouble. Make sure you do not be like this phone while you're in the middle of driving. The news always updated when people do something stupid around that involves their phones. The safest way is the best way to stay safe.    \n"
     ]
    }
   ],
   "source": [
    "print(stress1)"
   ]
  },
  {
   "cell_type": "code",
   "execution_count": 436,
   "metadata": {},
   "outputs": [],
   "source": [
    "stress1_paragr=stress1.split('\\n\\n')"
   ]
  },
  {
   "cell_type": "code",
   "execution_count": 437,
   "metadata": {},
   "outputs": [
    {
     "data": {
      "text/plain": [
       "7"
      ]
     },
     "execution_count": 437,
     "metadata": {},
     "output_type": "execute_result"
    }
   ],
   "source": [
    "len(stress1_paragr)"
   ]
  },
  {
   "cell_type": "code",
   "execution_count": 438,
   "metadata": {},
   "outputs": [],
   "source": [
    "from nltk import word_tokenize"
   ]
  },
  {
   "cell_type": "code",
   "execution_count": 439,
   "metadata": {},
   "outputs": [
    {
     "name": "stderr",
     "output_type": "stream",
     "text": [
      "[nltk_data] Downloading package punkt to\n",
      "[nltk_data]     C:\\Users\\kkara\\AppData\\Roaming\\nltk_data...\n",
      "[nltk_data]   Package punkt is already up-to-date!\n"
     ]
    },
    {
     "data": {
      "text/plain": [
       "True"
      ]
     },
     "execution_count": 439,
     "metadata": {},
     "output_type": "execute_result"
    }
   ],
   "source": [
    ">>> nltk.download('punkt')"
   ]
  },
  {
   "cell_type": "code",
   "execution_count": 440,
   "metadata": {},
   "outputs": [],
   "source": [
    "token=word_tokenize(stress1)"
   ]
  },
  {
   "cell_type": "code",
   "execution_count": 441,
   "metadata": {},
   "outputs": [],
   "source": [
    "import string"
   ]
  },
  {
   "cell_type": "code",
   "execution_count": 442,
   "metadata": {
    "collapsed": true
   },
   "outputs": [
    {
     "name": "stdout",
     "output_type": "stream",
     "text": [
      "['Phones', 'Modern', 'humans', 'today', 'are', 'always', 'on', 'their', 'phone', '.', 'They', 'are', 'always', 'on', 'their', 'phone', 'more', 'than', '5', 'hours', 'a', 'day', 'no', 'stop', '.All', 'they', 'do', 'is', 'text', 'back', 'and', 'forward', 'and', 'just', 'have', 'group', 'Chats', 'on', 'social', 'media', '.', 'They', 'even', 'do', 'it', 'while', 'driving', '.', 'They', 'are', 'some', 'really', 'bad', 'consequences', 'when', 'stuff', 'happens', 'when', 'it', 'comes', 'to', 'a', 'phone', '.', 'Some', 'certain', 'areas', 'in', 'the', 'United', 'States', 'ban', 'phones', 'from', 'class', 'rooms', 'just', 'because', 'of', 'it', '.', 'When', 'people', 'have', 'phones', ',', 'they', 'know', 'about', 'certain', 'apps', 'that', 'they', 'have', '.Apps', 'like', 'Facebook', 'Twitter', 'Instagram', 'and', 'Snapchat', '.', 'So', 'like', 'if', 'a', 'friend', 'moves', 'away', 'and', 'you', 'want', 'to', 'be', 'in', 'contact', 'you', 'can', 'still', 'be', 'in', 'contact', 'by', 'posting', 'videos', 'or', 'text', 'messages', '.', 'People', 'always', 'have', 'different', 'ways', 'how', 'to', 'communicate', 'with', 'a', 'phone', '.', 'Phones', 'have', 'changed', 'due', 'to', 'our', 'generation', '.', 'Driving', 'is', 'one', 'of', 'the', 'way', 'how', 'to', 'get', 'around', '.', 'People', 'always', 'be', 'on', 'their', 'phones', 'while', 'doing', 'it', '.', 'Which', 'can', 'cause', 'serious', 'Problems', '.', 'That', \"'s\", 'why', 'there', \"'s\", 'a', 'thing', 'that', \"'s\", 'called', 'no', 'texting', 'while', 'driving', '.', 'That', \"'s\", 'a', 'really', 'important', 'thing', 'to', 'remember', '.', 'Some', 'people', 'still', 'do', 'it', 'because', 'they', 'think', 'It', \"'s\", 'stupid', '.', 'No', 'matter', 'what', 'they', 'do', 'they', 'still', 'have', 'to', 'obey', 'it', 'because', 'that', \"'s\", 'the', 'only', 'way', 'how', 'did', 'he', 'save', '.', 'Sometimes', 'on', 'the', 'news', 'there', 'is', 'either', 'an', 'accident', 'or', 'a', 'suicide', '.', 'It', 'might', 'involve', 'someone', 'not', 'looking', 'where', 'they', \"'re\", 'going', 'or', 'tweet', 'that', 'someone', 'sent', '.', 'It', 'either', 'injury', 'or', 'death', '.', 'If', 'a', 'mysterious', 'number', 'says', 'I', \"'m\", 'going', 'to', 'kill', 'you', 'and', 'they', 'know', 'where', 'you', 'live', 'but', 'you', 'do', \"n't\", 'know', 'the', 'person', \"'s\", 'contact', ',', 'It', 'makes', 'you', 'puzzled', 'and', 'make', 'you', 'start', 'to', 'freak', 'out', '.', 'Which', 'can', 'end', 'up', 'really', 'badly', '.', 'Phones', 'are', 'fine', 'to', 'use', 'and', 'it', \"'s\", 'also', 'the', 'best', 'way', 'to', 'come', 'over', 'help', '.', 'If', 'you', 'go', 'through', 'a', 'problem', 'and', 'you', 'ca', \"n't\", 'find', 'help', 'you', ',', 'always', 'have', 'a', 'phone', 'there', 'with', 'you', '.', 'Even', 'though', 'phones', 'are', 'used', 'almost', 'every', 'day', 'as', 'long', 'as', 'you', \"'re\", 'safe', 'it', 'would', 'come', 'into', 'use', 'if', 'you', 'get', 'into', 'trouble', '.', 'Make', 'sure', 'you', 'do', 'not', 'be', 'like', 'this', 'phone', 'while', 'you', \"'re\", 'in', 'the', 'middle', 'of', 'driving', '.', 'The', 'news', 'always', 'updated', 'when', 'people', 'do', 'something', 'stupid', 'around', 'that', 'involves', 'their', 'phones', '.', 'The', 'safest', 'way', 'is', 'the', 'best', 'way', 'to', 'stay', 'safe', '.']\n"
     ]
    }
   ],
   "source": [
    "print(token)"
   ]
  },
  {
   "cell_type": "code",
   "execution_count": 443,
   "metadata": {},
   "outputs": [],
   "source": [
    "toek=[x for x in token if (x not in string.punctuation)]"
   ]
  },
  {
   "cell_type": "code",
   "execution_count": 444,
   "metadata": {
    "collapsed": true
   },
   "outputs": [
    {
     "name": "stdout",
     "output_type": "stream",
     "text": [
      "['Phones', 'Modern', 'humans', 'today', 'are', 'always', 'on', 'their', 'phone', 'They', 'are', 'always', 'on', 'their', 'phone', 'more', 'than', '5', 'hours', 'a', 'day', 'no', 'stop', '.All', 'they', 'do', 'is', 'text', 'back', 'and', 'forward', 'and', 'just', 'have', 'group', 'Chats', 'on', 'social', 'media', 'They', 'even', 'do', 'it', 'while', 'driving', 'They', 'are', 'some', 'really', 'bad', 'consequences', 'when', 'stuff', 'happens', 'when', 'it', 'comes', 'to', 'a', 'phone', 'Some', 'certain', 'areas', 'in', 'the', 'United', 'States', 'ban', 'phones', 'from', 'class', 'rooms', 'just', 'because', 'of', 'it', 'When', 'people', 'have', 'phones', 'they', 'know', 'about', 'certain', 'apps', 'that', 'they', 'have', '.Apps', 'like', 'Facebook', 'Twitter', 'Instagram', 'and', 'Snapchat', 'So', 'like', 'if', 'a', 'friend', 'moves', 'away', 'and', 'you', 'want', 'to', 'be', 'in', 'contact', 'you', 'can', 'still', 'be', 'in', 'contact', 'by', 'posting', 'videos', 'or', 'text', 'messages', 'People', 'always', 'have', 'different', 'ways', 'how', 'to', 'communicate', 'with', 'a', 'phone', 'Phones', 'have', 'changed', 'due', 'to', 'our', 'generation', 'Driving', 'is', 'one', 'of', 'the', 'way', 'how', 'to', 'get', 'around', 'People', 'always', 'be', 'on', 'their', 'phones', 'while', 'doing', 'it', 'Which', 'can', 'cause', 'serious', 'Problems', 'That', \"'s\", 'why', 'there', \"'s\", 'a', 'thing', 'that', \"'s\", 'called', 'no', 'texting', 'while', 'driving', 'That', \"'s\", 'a', 'really', 'important', 'thing', 'to', 'remember', 'Some', 'people', 'still', 'do', 'it', 'because', 'they', 'think', 'It', \"'s\", 'stupid', 'No', 'matter', 'what', 'they', 'do', 'they', 'still', 'have', 'to', 'obey', 'it', 'because', 'that', \"'s\", 'the', 'only', 'way', 'how', 'did', 'he', 'save', 'Sometimes', 'on', 'the', 'news', 'there', 'is', 'either', 'an', 'accident', 'or', 'a', 'suicide', 'It', 'might', 'involve', 'someone', 'not', 'looking', 'where', 'they', \"'re\", 'going', 'or', 'tweet', 'that', 'someone', 'sent', 'It', 'either', 'injury', 'or', 'death', 'If', 'a', 'mysterious', 'number', 'says', 'I', \"'m\", 'going', 'to', 'kill', 'you', 'and', 'they', 'know', 'where', 'you', 'live', 'but', 'you', 'do', \"n't\", 'know', 'the', 'person', \"'s\", 'contact', 'It', 'makes', 'you', 'puzzled', 'and', 'make', 'you', 'start', 'to', 'freak', 'out', 'Which', 'can', 'end', 'up', 'really', 'badly', 'Phones', 'are', 'fine', 'to', 'use', 'and', 'it', \"'s\", 'also', 'the', 'best', 'way', 'to', 'come', 'over', 'help', 'If', 'you', 'go', 'through', 'a', 'problem', 'and', 'you', 'ca', \"n't\", 'find', 'help', 'you', 'always', 'have', 'a', 'phone', 'there', 'with', 'you', 'Even', 'though', 'phones', 'are', 'used', 'almost', 'every', 'day', 'as', 'long', 'as', 'you', \"'re\", 'safe', 'it', 'would', 'come', 'into', 'use', 'if', 'you', 'get', 'into', 'trouble', 'Make', 'sure', 'you', 'do', 'not', 'be', 'like', 'this', 'phone', 'while', 'you', \"'re\", 'in', 'the', 'middle', 'of', 'driving', 'The', 'news', 'always', 'updated', 'when', 'people', 'do', 'something', 'stupid', 'around', 'that', 'involves', 'their', 'phones', 'The', 'safest', 'way', 'is', 'the', 'best', 'way', 'to', 'stay', 'safe']\n"
     ]
    }
   ],
   "source": [
    "print(toek)"
   ]
  },
  {
   "cell_type": "code",
   "execution_count": 445,
   "metadata": {
    "scrolled": true
   },
   "outputs": [
    {
     "data": {
      "text/plain": [
       "513"
      ]
     },
     "execution_count": 445,
     "metadata": {},
     "output_type": "execute_result"
    }
   ],
   "source": [
    ">>> stress1.find('Snapchat')"
   ]
  },
  {
   "cell_type": "code",
   "execution_count": 446,
   "metadata": {},
   "outputs": [
    {
     "data": {
      "text/plain": [
       "'Snapchat. So like if a friend moves away and you want to be in cont'"
      ]
     },
     "execution_count": 446,
     "metadata": {},
     "output_type": "execute_result"
    }
   ],
   "source": [
    ">>> stress1[513:580]"
   ]
  },
  {
   "cell_type": "markdown",
   "metadata": {},
   "source": [
    "Now toek has no punctuation, so we are parsing only our tokens.\n",
    "\n",
    "Next we will see how many mistakes there are in stress1. "
   ]
  },
  {
   "cell_type": "code",
   "execution_count": 447,
   "metadata": {},
   "outputs": [],
   "source": [
    "from nltk.metrics.distance import jaccard_distance\n",
    "from nltk.util import ngrams\n",
    "from nltk.metrics.distance  import edit_distance"
   ]
  },
  {
   "cell_type": "code",
   "execution_count": 448,
   "metadata": {},
   "outputs": [
    {
     "name": "stderr",
     "output_type": "stream",
     "text": [
      "[nltk_data] Downloading package gutenberg to\n",
      "[nltk_data]     C:\\Users\\kkara\\AppData\\Roaming\\nltk_data...\n",
      "[nltk_data]   Package gutenberg is already up-to-date!\n"
     ]
    },
    {
     "data": {
      "text/plain": [
       "True"
      ]
     },
     "execution_count": 448,
     "metadata": {},
     "output_type": "execute_result"
    }
   ],
   "source": [
    "nltk.download('gutenberg')\n"
   ]
  },
  {
   "cell_type": "code",
   "execution_count": 449,
   "metadata": {},
   "outputs": [
    {
     "name": "stderr",
     "output_type": "stream",
     "text": [
      "[nltk_data] Downloading package brown to\n",
      "[nltk_data]     C:\\Users\\kkara\\AppData\\Roaming\\nltk_data...\n",
      "[nltk_data]   Package brown is already up-to-date!\n"
     ]
    },
    {
     "data": {
      "text/plain": [
       "True"
      ]
     },
     "execution_count": 449,
     "metadata": {},
     "output_type": "execute_result"
    }
   ],
   "source": [
    "nltk.download('brown')"
   ]
  },
  {
   "cell_type": "code",
   "execution_count": 450,
   "metadata": {},
   "outputs": [
    {
     "data": {
      "text/plain": [
       "1161192"
      ]
     },
     "execution_count": 450,
     "metadata": {},
     "output_type": "execute_result"
    }
   ],
   "source": [
    "from nltk.corpus import brown\n",
    "correct_words= brown.words()\n",
    "len(correct_words)"
   ]
  },
  {
   "cell_type": "code",
   "execution_count": 719,
   "metadata": {},
   "outputs": [
    {
     "data": {
      "text/plain": [
       "','"
      ]
     },
     "execution_count": 719,
     "metadata": {},
     "output_type": "execute_result"
    }
   ],
   "source": [
    "strongi=',tommy,'\n",
    "strongi[-1]"
   ]
  },
  {
   "cell_type": "code",
   "execution_count": 720,
   "metadata": {},
   "outputs": [
    {
     "data": {
      "text/plain": [
       "True"
      ]
     },
     "execution_count": 720,
     "metadata": {},
     "output_type": "execute_result"
    }
   ],
   "source": [
    ">>> '.' in correct_words"
   ]
  },
  {
   "cell_type": "markdown",
   "metadata": {},
   "source": [
    "We import from nltk an alternative distance"
   ]
  },
  {
   "cell_type": "code",
   "execution_count": 513,
   "metadata": {},
   "outputs": [],
   "source": [
    "from nltk.metrics.distance  import edit_distance"
   ]
  },
  {
   "cell_type": "code",
   "execution_count": 724,
   "metadata": {
    "scrolled": false
   },
   "outputs": [
    {
     "name": "stdout",
     "output_type": "stream",
     "text": [
      "usgage\n",
      "Usgage Usage\n",
      "usgage\n",
      "usgage usage\n",
      "usage This is me\n"
     ]
    }
   ],
   "source": [
    "def mistaCe(docu):\n",
    "    wrds=docu\n",
    "    spellErr=[]\n",
    "    spellCorPair=[]\n",
    "    Jac_Pre_Score=0.4\n",
    "    Acceptable_Precision=3\n",
    "    Puncuat= False\n",
    "    PuncDot=False\n",
    "    PuncComa=False\n",
    "    Start_P=False\n",
    "    \n",
    "    if (docu.find(',')>-1        ) or ( docu.find('.')>-1  ):\n",
    "        Puncuat= True\n",
    "        if docu.find(',')>-1 :\n",
    "            PuncComa =True\n",
    "            if docu[0]==',':\n",
    "                Start_P=True\n",
    "                wrds=docu[1:]\n",
    "            else: \n",
    "                Start_P=False\n",
    "                wrds=docu[:-1]\n",
    "        else:\n",
    "            PuncDot = True\n",
    "            if docu[0]=='.':\n",
    "                Start_P=True\n",
    "                \n",
    "                wrds=docu[1:]\n",
    "            else: \n",
    "                Start_P=False\n",
    "                wrds=docu[:-1]\n",
    "    \n",
    "    \n",
    "    \n",
    "    \n",
    "    #for wrds in docu:           to correct a document\n",
    "    word=wrds.lower()\n",
    "    if word not in correct_words:\n",
    "        print(word)\n",
    "        spellErr.append(word)\n",
    "            \n",
    "        temp_J=[ (jaccard_distance( set(  ngrams(word,2)  ),\n",
    "            \n",
    "                                     \n",
    "                                     set(ngrams(w,2))),w) for w in correct_words if w[0]==word[0]] #We need the punctuation fixed for this to work.\n",
    "        score_J,Cor_W_J = sorted(temp_J, key = lambda val:val[0])[0][0],sorted(temp_J, key = lambda val:val[0])[0][1]\n",
    "            \n",
    "            \n",
    "        if (score_J>Jac_Pre_Score):\n",
    "            temp_E=[ (edit_distance( word,w),w) for w in correct_words if w[0]==word[0]] \n",
    "            score_J ,Cor_W_J = sorted(temp_E, key = lambda val:val[0])[0][0], sorted(temp_E, key = lambda val:val[0])[0][1]\n",
    "            \n",
    "        if (score_J< Acceptable_Precision):\n",
    "            \n",
    "            if (not (wrds[0]==word[0])):\n",
    "                    Cor_W_J=Cor_W_J.capitalize()\n",
    "            else:\n",
    "                pass\n",
    "            \n",
    "            \n",
    "            spellCorPair.append( [wrds, Cor_W_J] )\n",
    "            print(wrds,Cor_W_J)\n",
    "            if Puncuat:\n",
    "                if PuncComa:\n",
    "             \n",
    "                    if Start_P:\n",
    "                \n",
    "                        Cor_W_J=','+Cor_W_J\n",
    "                        return Cor_W_J\n",
    "                    else:\n",
    "                        Cor_W_J=Cor_W_J\n",
    "                         \n",
    "                        return Cor_W_J+','\n",
    "                elif Start_P:\n",
    "                    Cor_W_J='.'+Cor_W_J\n",
    "                    return Cor_W_J\n",
    "                else:\n",
    "                    Cor_W_J=Cor_W_J+'.'\n",
    "                    return Cor_W_J\n",
    "                            \n",
    "            \n",
    "                return Cor_W_J \n",
    "            else: \n",
    "                return Cor_W_J\n",
    "        else:\n",
    "            spellErr.remove(word)\n",
    "            return docu            \n",
    "            \n",
    "        \n",
    "    \n",
    "    \n",
    "    \n",
    "        \n",
    "mistaCe('Usgage') \n",
    "\n",
    "print( mistaCe('usgage'),'This is me'   )"
   ]
  },
  {
   "cell_type": "code",
   "execution_count": 455,
   "metadata": {},
   "outputs": [],
   "source": [
    "import re"
   ]
  },
  {
   "cell_type": "code",
   "execution_count": 456,
   "metadata": {},
   "outputs": [],
   "source": [
    "stspeceC='.'"
   ]
  },
  {
   "cell_type": "code",
   "execution_count": 457,
   "metadata": {
    "scrolled": true
   },
   "outputs": [
    {
     "name": "stdout",
     "output_type": "stream",
     "text": [
      ".\n"
     ]
    }
   ],
   "source": [
    "print(stspeceC)"
   ]
  },
  {
   "cell_type": "code",
   "execution_count": 458,
   "metadata": {},
   "outputs": [],
   "source": [
    "s1=stspeceC.rjust(2)"
   ]
  },
  {
   "cell_type": "code",
   "execution_count": 459,
   "metadata": {},
   "outputs": [],
   "source": [
    "s2=stspeceC.ljust(2)"
   ]
  },
  {
   "cell_type": "code",
   "execution_count": 460,
   "metadata": {},
   "outputs": [],
   "source": [
    "s3=stspeceC.center(3)"
   ]
  },
  {
   "cell_type": "code",
   "execution_count": 461,
   "metadata": {},
   "outputs": [],
   "source": [
    "fixess=re.sub(s1,s2,stress1   )"
   ]
  },
  {
   "cell_type": "code",
   "execution_count": 474,
   "metadata": {},
   "outputs": [],
   "source": [
    "file=open(PATH_TO_DIR+trIdUnique[1700]+'.txt','r',encoding='utf-8-sig') \n",
    "file_Re=file.read()"
   ]
  },
  {
   "cell_type": "markdown",
   "metadata": {},
   "source": [
    "Punctuation fixing "
   ]
  },
  {
   "cell_type": "code",
   "execution_count": 476,
   "metadata": {},
   "outputs": [],
   "source": [
    "def punc(docu, str1, str2):\n",
    "    position=0\n",
    "    \n",
    "    while( position<len(docu)    ):\n",
    "        if docu[position:].find(str1)==-1:\n",
    "            break\n",
    "        position+=docu[position:].find(str1)   \n",
    "        docu=docu[:position]+str2+docu[position+2:]\n",
    "             \n",
    "        position+=1\n",
    "        \n",
    "    return docu             \n",
    "            \n",
    "    \n",
    "    \n",
    "    "
   ]
  },
  {
   "cell_type": "code",
   "execution_count": null,
   "metadata": {},
   "outputs": [],
   "source": [
    "def "
   ]
  },
  {
   "cell_type": "code",
   "execution_count": 559,
   "metadata": {},
   "outputs": [],
   "source": [
    "st='aa.All'"
   ]
  },
  {
   "cell_type": "code",
   "execution_count": 562,
   "metadata": {},
   "outputs": [
    {
     "data": {
      "text/plain": [
       "2"
      ]
     },
     "execution_count": 562,
     "metadata": {},
     "output_type": "execute_result"
    }
   ],
   "source": [
    "st.find('.')"
   ]
  },
  {
   "cell_type": "code",
   "execution_count": 591,
   "metadata": {
    "collapsed": true
   },
   "outputs": [
    {
     "name": "stdout",
     "output_type": "stream",
     "text": [
      "423A1CA112E2\n",
      "             id  discourse_id  discourse_start  discourse_end  \\\n",
      "0  423A1CA112E2  1.622628e+12              8.0          229.0   \n",
      "1  423A1CA112E2  1.622628e+12            230.0          312.0   \n",
      "2  423A1CA112E2  1.622628e+12            313.0          401.0   \n",
      "3  423A1CA112E2  1.622628e+12            402.0          758.0   \n",
      "4  423A1CA112E2  1.622628e+12            759.0          886.0   \n",
      "5  423A1CA112E2  1.622628e+12            887.0         1150.0   \n",
      "6  423A1CA112E2  1.622628e+12           1151.0         1533.0   \n",
      "7  423A1CA112E2  1.622628e+12           1534.0         1602.0   \n",
      "8  423A1CA112E2  1.622628e+12           1603.0         1890.0   \n",
      "9  423A1CA112E2  1.622628e+12           1891.0         2027.0   \n",
      "\n",
      "                                      discourse_text        discourse_type  \\\n",
      "0  Modern humans today are always on their phone....                  Lead   \n",
      "1  They are some really bad consequences when stu...              Position   \n",
      "2  Some certain areas in the United States ban ph...              Evidence   \n",
      "3  When people have phones, they know about certa...              Evidence   \n",
      "4  Driving is one of the way how to get around. P...                 Claim   \n",
      "5  That's why there's a thing that's called no te...              Evidence   \n",
      "6  Sometimes on the news there is either an accid...              Evidence   \n",
      "7  Phones are fine to use and it's also the best ...                 Claim   \n",
      "8  If you go through a problem and you can't find...              Evidence   \n",
      "9  The news always updated when people do somethi...  Concluding Statement   \n",
      "\n",
      "       discourse_type_num                                   predictionstring  \n",
      "0                  Lead 1  1 2 3 4 5 6 7 8 9 10 11 12 13 14 15 16 17 18 1...  \n",
      "1              Position 1       45 46 47 48 49 50 51 52 53 54 55 56 57 58 59  \n",
      "2              Evidence 1    60 61 62 63 64 65 66 67 68 69 70 71 72 73 74 75  \n",
      "3              Evidence 2  76 77 78 79 80 81 82 83 84 85 86 87 88 89 90 9...  \n",
      "4                 Claim 1  139 140 141 142 143 144 145 146 147 148 149 15...  \n",
      "5              Evidence 3  163 164 165 166 167 168 169 170 171 172 173 17...  \n",
      "6              Evidence 4  211 212 213 214 215 216 217 218 219 220 221 22...  \n",
      "7                 Claim 2  282 283 284 285 286 287 288 289 290 291 292 29...  \n",
      "8              Evidence 5  297 298 299 300 301 302 303 304 305 306 307 30...  \n",
      "9  Concluding Statement 1  355 356 357 358 359 360 361 362 363 364 365 36...  \n"
     ]
    }
   ],
   "source": [
    "trIdUnique=train_data.id.unique()\n",
    "docId=trIdUnique[0]\n",
    "print(docId)\n",
    "train_data_id=train_data[train_data.id==docId]\n",
    "print(train_data_id)"
   ]
  },
  {
   "cell_type": "code",
   "execution_count": 594,
   "metadata": {},
   "outputs": [
    {
     "name": "stdout",
     "output_type": "stream",
     "text": [
      "['id' 'discourse_id' 'discourse_start' 'discourse_end' 'discourse_text'\n",
      " 'discourse_type' 'discourse_type_num' 'predictionstring']\n",
      "<class 'pandas.core.frame.DataFrame'>\n"
     ]
    }
   ],
   "source": [
    "print(train_data_id.columns.values)\n",
    "print( type(train_data_id)   )"
   ]
  },
  {
   "cell_type": "code",
   "execution_count": 609,
   "metadata": {
    "collapsed": true
   },
   "outputs": [
    {
     "name": "stdout",
     "output_type": "stream",
     "text": [
      "       discourse_type_num                                   predictionstring  \\\n",
      "0                  Lead 1  1 2 3 4 5 6 7 8 9 10 11 12 13 14 15 16 17 18 1...   \n",
      "1              Position 1       45 46 47 48 49 50 51 52 53 54 55 56 57 58 59   \n",
      "2              Evidence 1    60 61 62 63 64 65 66 67 68 69 70 71 72 73 74 75   \n",
      "3              Evidence 2  76 77 78 79 80 81 82 83 84 85 86 87 88 89 90 9...   \n",
      "4                 Claim 1  139 140 141 142 143 144 145 146 147 148 149 15...   \n",
      "5              Evidence 3  163 164 165 166 167 168 169 170 171 172 173 17...   \n",
      "6              Evidence 4  211 212 213 214 215 216 217 218 219 220 221 22...   \n",
      "7                 Claim 2  282 283 284 285 286 287 288 289 290 291 292 29...   \n",
      "8              Evidence 5  297 298 299 300 301 302 303 304 305 306 307 30...   \n",
      "9  Concluding Statement 1  355 356 357 358 359 360 361 362 363 364 365 36...   \n",
      "\n",
      "         discourse_type  \n",
      "0                  Lead  \n",
      "1              Position  \n",
      "2              Evidence  \n",
      "3              Evidence  \n",
      "4                 Claim  \n",
      "5              Evidence  \n",
      "6              Evidence  \n",
      "7                 Claim  \n",
      "8              Evidence  \n",
      "9  Concluding Statement  \n"
     ]
    }
   ],
   "source": [
    "print(   train_data_id[['discourse_type_num','predictionstring','discourse_type']]    )"
   ]
  },
  {
   "cell_type": "code",
   "execution_count": 621,
   "metadata": {},
   "outputs": [
    {
     "name": "stdout",
     "output_type": "stream",
     "text": [
      "facebook\n"
     ]
    },
    {
     "data": {
      "text/plain": [
       "[[], []]"
      ]
     },
     "execution_count": 621,
     "metadata": {},
     "output_type": "execute_result"
    }
   ],
   "source": [
    "def mistaCe(docu):\n",
    "    spellErr=[]\n",
    "    spellCorPair=dict()\n",
    "    Jac_Pre_Score=0.4\n",
    "    Acceptable_Precision=3\n",
    "    for wrds in docu:\n",
    "        word=wrds.lower()\n",
    "        if word not in correct_words:\n",
    "            print(word)\n",
    "            spellErr.append(word)\n",
    "            \n",
    "            temp_J=[ (jaccard_distance( set(  ngrams(word,2)  ),\n",
    "            \n",
    "                                     \n",
    "                                     set(ngrams(w,2))),w) for w in correct_words if w[0]==word[0]] #We need the punctuation fixed for this to work.\n",
    "            score_J,Cor_W_J = sorted(temp_J, key = lambda val:val[0])[0][0],sorted(temp_J, key = lambda val:val[0])[0][1]\n",
    "            \n",
    "            \n",
    "            if (score_J>Jac_Pre_Score):\n",
    "                temp_E=[ (edit_distance( word,w),w) for w in correct_words if w[0]==word[0]] \n",
    "                score_J ,Cor_W_J = sorted(temp_E, key = lambda val:val[0])[0][0], sorted(temp_E, key = lambda val:val[0])[0][1]\n",
    "            \n",
    "            if (score_J< Acceptable_Precision):\n",
    "            \n",
    "                if (not (wrds[0]==word[0])):\n",
    "                    Cor_W_J=Cor_W_J.capitalize()\n",
    "                else:\n",
    "                    pass\n",
    "            \n",
    "            \n",
    "                spellCorPair[wrds]=Cor_W_J\n",
    "                print(wrds,Cor_W_J)\n",
    "             \n",
    "            else:\n",
    "                spellErr.remove(word)\n",
    "                        \n",
    "            \n",
    "    \n",
    "    \n",
    "    \n",
    "    return [spellErr, spellCorPair]        \n",
    "        \n",
    "mistaCe(['facebook'])    "
   ]
  },
  {
   "cell_type": "code",
   "execution_count": 620,
   "metadata": {
    "collapsed": true
   },
   "outputs": [
    {
     "ename": "SyntaxError",
     "evalue": "invalid syntax (<ipython-input-620-9eee49a5c307>, line 1)",
     "output_type": "error",
     "traceback": [
      "\u001b[1;36m  File \u001b[1;32m\"<ipython-input-620-9eee49a5c307>\"\u001b[1;36m, line \u001b[1;32m1\u001b[0m\n\u001b[1;33m    arrayChar=train_data.[ ['discourse_start'  ,  'discourse_end' ]    ].values\u001b[0m\n\u001b[1;37m                         ^\u001b[0m\n\u001b[1;31mSyntaxError\u001b[0m\u001b[1;31m:\u001b[0m invalid syntax\n"
     ]
    }
   ],
   "source": [
    "arrayChar=train_data[ ['discourse_start'  ,  'discourse_end' ]    ].values\n",
    "\n",
    "print(arrayChar)"
   ]
  },
  {
   "cell_type": "code",
   "execution_count": 637,
   "metadata": {
    "collapsed": true
   },
   "outputs": [
    {
     "data": {
      "text/plain": [
       "['1',\n",
       " '2',\n",
       " '3',\n",
       " '4',\n",
       " '5',\n",
       " '6',\n",
       " '7',\n",
       " '8',\n",
       " '9',\n",
       " '10',\n",
       " '11',\n",
       " '12',\n",
       " '13',\n",
       " '14',\n",
       " '15',\n",
       " '16',\n",
       " '17',\n",
       " '18',\n",
       " '19',\n",
       " '20',\n",
       " '21',\n",
       " '22',\n",
       " '23',\n",
       " '24',\n",
       " '25',\n",
       " '26',\n",
       " '27',\n",
       " '28',\n",
       " '29',\n",
       " '30',\n",
       " '31',\n",
       " '32',\n",
       " '33',\n",
       " '34',\n",
       " '35',\n",
       " '36',\n",
       " '37',\n",
       " '38',\n",
       " '39',\n",
       " '40',\n",
       " '41',\n",
       " '42',\n",
       " '43',\n",
       " '44']"
      ]
     },
     "execution_count": 637,
     "metadata": {},
     "output_type": "execute_result"
    }
   ],
   "source": [
    "train_data['predictionstring'][0].split()     "
   ]
  },
  {
   "cell_type": "code",
   "execution_count": 707,
   "metadata": {},
   "outputs": [],
   "source": [
    "def Spell_Parser(StriDocId, train_docId):\n",
    "    worldList=StriDocId.split()\n",
    "    CorrStriDocId=''\n",
    "    AnnoNum=0\n",
    "    charList=np.zeros((len(train_docId),2))\n",
    "    pred_stri=train_data['predictionstring']   \n",
    "    curson_star=0\n",
    "    curson_end=0\n",
    "    curson_star_C=0\n",
    "    passage=False\n",
    "    curson_end_C=0\n",
    "    for index,word in enumerate(worldList):\n",
    "        if word not in correct_words:\n",
    "            Overhead=StriDocId[curson_end:].find(word)\n",
    "            Overhead=min(Overhead, len(StriDocId)-curson_end   )\n",
    "            CorrStriDocId+=StriDocId[curson_end:curson_end+Overhead]+mistaCe(word)\n",
    "            \n",
    "        else: \n",
    "            Overhead=StriDocId[curson_end:].find(word)\n",
    "            Overhead=min(Overhead, len(StriDocId)-curson_end   )\n",
    "            CorrStriDocId+=StriDocId[curson_end:curson_end+Overhead]+word\n",
    "        if index in pred_stri[AnnoNum].split():\n",
    "            passage=True\n",
    "            charList[AnnoNum][0]=min(curson_star_C,charList[AnnoNum][0])\n",
    "            charList[AnnoNum][1]=max(curson_end_C,charList[AnnoNum][1])\n",
    "                \n",
    "        elif AnnoNum+1<len(pred_stri) and index in pred_stri[AnnoNum+1].split():         \n",
    "            AnnoNum+=1\n",
    "            charList[AnnoNum][0]=min(curson_star_C,charList[AnnoNum][0])\n",
    "            charList[AnnoNum][1]=max(curson_end_C,charList[AnnoNum][1])\n",
    "        elif passage:\n",
    "            AnnoNum+=1\n",
    "            passage= False\n",
    "        else:\n",
    "            continue\n",
    "            \n",
    "    return StriDocId, charList\n",
    "    \n",
    "    \n",
    "   \n",
    "    \n"
   ]
  },
  {
   "cell_type": "code",
   "execution_count": 708,
   "metadata": {},
   "outputs": [
    {
     "name": "stdout",
     "output_type": "stream",
     "text": [
      "                id  discourse_id  discourse_start  discourse_end  \\\n",
      "9202  544FF2EE0ACC  1.622659e+12              0.0          110.0   \n",
      "9203  544FF2EE0ACC  1.622659e+12            111.0          662.0   \n",
      "9204  544FF2EE0ACC  1.622659e+12            662.0          822.0   \n",
      "9205  544FF2EE0ACC  1.622659e+12            823.0         1131.0   \n",
      "\n",
      "                                         discourse_text discourse_type  \\\n",
      "9202  Fellow Citizens, there are many reasons why li...       Position   \n",
      "9203  For an example, If there aren't people out the...       Evidence   \n",
      "9204   Limiting car usage helps people stay in shape...          Claim   \n",
      "9205  Residents in Vauban, Germany are permitted car...       Evidence   \n",
      "\n",
      "     discourse_type_num                                   predictionstring  \n",
      "9202         Position 1                 0 1 2 3 4 5 6 7 8 9 10 11 12 13 14  \n",
      "9203         Evidence 1  15 16 17 18 19 20 21 22 23 24 25 26 27 28 29 3...  \n",
      "9204            Claim 1  120 121 122 123 124 125 126 127 128 129 130 13...  \n",
      "9205         Evidence 2  151 152 153 154 155 156 157 158 159 160 161 16...  \n"
     ]
    }
   ],
   "source": [
    "train_docid=  train_data[train_data.id== trIdUnique[1000]]\n",
    "print(train_docid[:4])\n"
   ]
  },
  {
   "cell_type": "code",
   "execution_count": 709,
   "metadata": {},
   "outputs": [
    {
     "data": {
      "text/plain": [
       "1012"
      ]
     },
     "execution_count": 709,
     "metadata": {},
     "output_type": "execute_result"
    }
   ],
   "source": [
    "stambler.find('along with a home')"
   ]
  },
  {
   "cell_type": "code",
   "execution_count": 710,
   "metadata": {},
   "outputs": [],
   "source": [
    "TruncSt=stambler[:1032]\n",
    "TrunTrainD=train_docid[:4]"
   ]
  },
  {
   "cell_type": "code",
   "execution_count": 711,
   "metadata": {
    "collapsed": true
   },
   "outputs": [
    {
     "name": "stdout",
     "output_type": "stream",
     "text": [
      "citizens,\n",
      "Citizens, Citizens\n",
      "usgage\n",
      "usgage usage\n",
      "oppritunities\n",
      "oppritunities opportunities\n",
      "advantages.\n",
      "advantages. advantages\n",
      "example,\n",
      "example, example\n",
      "for,\n",
      "for, for\n",
      "run,\n",
      "run, run\n",
      "bikes,\n",
      "bikes, bites\n",
      "hike,\n",
      "hike, hike\n",
      "bus,\n",
      "bus, bus\n",
      "gas,\n",
      "gas, gas\n",
      "again.\n",
      "again. again\n",
      "running,\n",
      "Running, Running\n",
      "bikes,\n",
      "bikes, bites\n",
      "hiking,\n",
      "hiking, hiking\n",
      "reality.\n",
      "reality. reality\n",
      "earths\n",
      "earths earth\n",
      "beauty,\n",
      "beauty, beauty\n",
      "air.\n",
      "air. air\n"
     ]
    },
    {
     "ename": "TypeError",
     "evalue": "can only concatenate str (not \"NoneType\") to str",
     "output_type": "error",
     "traceback": [
      "\u001b[1;31m---------------------------------------------------------------------------\u001b[0m",
      "\u001b[1;31mTypeError\u001b[0m                                 Traceback (most recent call last)",
      "\u001b[1;32m<ipython-input-711-12b88883ef02>\u001b[0m in \u001b[0;36m<module>\u001b[1;34m\u001b[0m\n\u001b[1;32m----> 1\u001b[1;33m \u001b[0ma\u001b[0m\u001b[1;33m,\u001b[0m\u001b[0mb\u001b[0m\u001b[1;33m=\u001b[0m \u001b[0mSpell_Parser\u001b[0m\u001b[1;33m(\u001b[0m\u001b[0mTruncSt\u001b[0m\u001b[1;33m,\u001b[0m\u001b[0mTrunTrainD\u001b[0m\u001b[1;33m)\u001b[0m\u001b[1;33m\u001b[0m\u001b[1;33m\u001b[0m\u001b[0m\n\u001b[0m",
      "\u001b[1;32m<ipython-input-707-68da00dbfe05>\u001b[0m in \u001b[0;36mSpell_Parser\u001b[1;34m(StriDocId, train_docId)\u001b[0m\n\u001b[0;32m     14\u001b[0m             \u001b[0mOverhead\u001b[0m\u001b[1;33m=\u001b[0m\u001b[0mStriDocId\u001b[0m\u001b[1;33m[\u001b[0m\u001b[0mcurson_end\u001b[0m\u001b[1;33m:\u001b[0m\u001b[1;33m]\u001b[0m\u001b[1;33m.\u001b[0m\u001b[0mfind\u001b[0m\u001b[1;33m(\u001b[0m\u001b[0mword\u001b[0m\u001b[1;33m)\u001b[0m\u001b[1;33m\u001b[0m\u001b[1;33m\u001b[0m\u001b[0m\n\u001b[0;32m     15\u001b[0m             \u001b[0mOverhead\u001b[0m\u001b[1;33m=\u001b[0m\u001b[0mmin\u001b[0m\u001b[1;33m(\u001b[0m\u001b[0mOverhead\u001b[0m\u001b[1;33m,\u001b[0m \u001b[0mlen\u001b[0m\u001b[1;33m(\u001b[0m\u001b[0mStriDocId\u001b[0m\u001b[1;33m)\u001b[0m\u001b[1;33m-\u001b[0m\u001b[0mcurson_end\u001b[0m   \u001b[1;33m)\u001b[0m\u001b[1;33m\u001b[0m\u001b[1;33m\u001b[0m\u001b[0m\n\u001b[1;32m---> 16\u001b[1;33m             \u001b[0mCorrStriDocId\u001b[0m\u001b[1;33m+=\u001b[0m\u001b[0mStriDocId\u001b[0m\u001b[1;33m[\u001b[0m\u001b[0mcurson_end\u001b[0m\u001b[1;33m:\u001b[0m\u001b[0mcurson_end\u001b[0m\u001b[1;33m+\u001b[0m\u001b[0mOverhead\u001b[0m\u001b[1;33m]\u001b[0m\u001b[1;33m+\u001b[0m\u001b[0mmistaCe\u001b[0m\u001b[1;33m(\u001b[0m\u001b[0mword\u001b[0m\u001b[1;33m)\u001b[0m\u001b[1;33m\u001b[0m\u001b[1;33m\u001b[0m\u001b[0m\n\u001b[0m\u001b[0;32m     17\u001b[0m \u001b[1;33m\u001b[0m\u001b[0m\n\u001b[0;32m     18\u001b[0m         \u001b[1;32melse\u001b[0m\u001b[1;33m:\u001b[0m\u001b[1;33m\u001b[0m\u001b[1;33m\u001b[0m\u001b[0m\n",
      "\u001b[1;31mTypeError\u001b[0m: can only concatenate str (not \"NoneType\") to str"
     ]
    }
   ],
   "source": [
    "a,b= Spell_Parser(TruncSt,TrunTrainD)"
   ]
  },
  {
   "cell_type": "code",
   "execution_count": null,
   "metadata": {},
   "outputs": [],
   "source": []
  }
 ],
 "metadata": {
  "kernelspec": {
   "display_name": "Python 3",
   "language": "python",
   "name": "python3"
  },
  "language_info": {
   "codemirror_mode": {
    "name": "ipython",
    "version": 3
   },
   "file_extension": ".py",
   "mimetype": "text/x-python",
   "name": "python",
   "nbconvert_exporter": "python",
   "pygments_lexer": "ipython3",
   "version": "3.8.5"
  }
 },
 "nbformat": 4,
 "nbformat_minor": 4
}
