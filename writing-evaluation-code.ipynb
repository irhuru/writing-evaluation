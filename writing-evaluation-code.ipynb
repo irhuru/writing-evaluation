{
 "cells": [
  {
   "cell_type": "markdown",
   "id": "3bd1fbda",
   "metadata": {},
   "source": [
    "# Writing evaluation code\n",
    "#### Evaluation of essays written by students in grades 6 to 12 (11 to 18 years old)"
   ]
  },
  {
   "cell_type": "code",
   "execution_count": 61,
   "id": "d14015f6",
   "metadata": {},
   "outputs": [],
   "source": [
    "# Import libraries\n",
    "import pandas as pd\n",
    "import numpy as np\n",
    "import matplotlib.pyplot as plt "
   ]
  },
  {
   "cell_type": "code",
   "execution_count": 62,
   "id": "84012cf8",
   "metadata": {},
   "outputs": [
    {
     "data": {
      "text/html": [
       "<div>\n",
       "<style scoped>\n",
       "    .dataframe tbody tr th:only-of-type {\n",
       "        vertical-align: middle;\n",
       "    }\n",
       "\n",
       "    .dataframe tbody tr th {\n",
       "        vertical-align: top;\n",
       "    }\n",
       "\n",
       "    .dataframe thead th {\n",
       "        text-align: right;\n",
       "    }\n",
       "</style>\n",
       "<table border=\"1\" class=\"dataframe\">\n",
       "  <thead>\n",
       "    <tr style=\"text-align: right;\">\n",
       "      <th></th>\n",
       "      <th>id</th>\n",
       "      <th>discourse_id</th>\n",
       "      <th>discourse_start</th>\n",
       "      <th>discourse_end</th>\n",
       "      <th>discourse_text</th>\n",
       "      <th>discourse_type</th>\n",
       "      <th>discourse_type_num</th>\n",
       "      <th>predictionstring</th>\n",
       "    </tr>\n",
       "  </thead>\n",
       "  <tbody>\n",
       "    <tr>\n",
       "      <th>0</th>\n",
       "      <td>423A1CA112E2</td>\n",
       "      <td>1.622628e+12</td>\n",
       "      <td>8.0</td>\n",
       "      <td>229.0</td>\n",
       "      <td>Modern humans today are always on their phone....</td>\n",
       "      <td>Lead</td>\n",
       "      <td>Lead 1</td>\n",
       "      <td>1 2 3 4 5 6 7 8 9 10 11 12 13 14 15 16 17 18 1...</td>\n",
       "    </tr>\n",
       "    <tr>\n",
       "      <th>1</th>\n",
       "      <td>423A1CA112E2</td>\n",
       "      <td>1.622628e+12</td>\n",
       "      <td>230.0</td>\n",
       "      <td>312.0</td>\n",
       "      <td>They are some really bad consequences when stu...</td>\n",
       "      <td>Position</td>\n",
       "      <td>Position 1</td>\n",
       "      <td>45 46 47 48 49 50 51 52 53 54 55 56 57 58 59</td>\n",
       "    </tr>\n",
       "    <tr>\n",
       "      <th>2</th>\n",
       "      <td>423A1CA112E2</td>\n",
       "      <td>1.622628e+12</td>\n",
       "      <td>313.0</td>\n",
       "      <td>401.0</td>\n",
       "      <td>Some certain areas in the United States ban ph...</td>\n",
       "      <td>Evidence</td>\n",
       "      <td>Evidence 1</td>\n",
       "      <td>60 61 62 63 64 65 66 67 68 69 70 71 72 73 74 75</td>\n",
       "    </tr>\n",
       "    <tr>\n",
       "      <th>3</th>\n",
       "      <td>423A1CA112E2</td>\n",
       "      <td>1.622628e+12</td>\n",
       "      <td>402.0</td>\n",
       "      <td>758.0</td>\n",
       "      <td>When people have phones, they know about certa...</td>\n",
       "      <td>Evidence</td>\n",
       "      <td>Evidence 2</td>\n",
       "      <td>76 77 78 79 80 81 82 83 84 85 86 87 88 89 90 9...</td>\n",
       "    </tr>\n",
       "    <tr>\n",
       "      <th>4</th>\n",
       "      <td>423A1CA112E2</td>\n",
       "      <td>1.622628e+12</td>\n",
       "      <td>759.0</td>\n",
       "      <td>886.0</td>\n",
       "      <td>Driving is one of the way how to get around. P...</td>\n",
       "      <td>Claim</td>\n",
       "      <td>Claim 1</td>\n",
       "      <td>139 140 141 142 143 144 145 146 147 148 149 15...</td>\n",
       "    </tr>\n",
       "  </tbody>\n",
       "</table>\n",
       "</div>"
      ],
      "text/plain": [
       "             id  discourse_id  discourse_start  discourse_end  \\\n",
       "0  423A1CA112E2  1.622628e+12              8.0          229.0   \n",
       "1  423A1CA112E2  1.622628e+12            230.0          312.0   \n",
       "2  423A1CA112E2  1.622628e+12            313.0          401.0   \n",
       "3  423A1CA112E2  1.622628e+12            402.0          758.0   \n",
       "4  423A1CA112E2  1.622628e+12            759.0          886.0   \n",
       "\n",
       "                                      discourse_text discourse_type  \\\n",
       "0  Modern humans today are always on their phone....           Lead   \n",
       "1  They are some really bad consequences when stu...       Position   \n",
       "2  Some certain areas in the United States ban ph...       Evidence   \n",
       "3  When people have phones, they know about certa...       Evidence   \n",
       "4  Driving is one of the way how to get around. P...          Claim   \n",
       "\n",
       "  discourse_type_num                                   predictionstring  \n",
       "0             Lead 1  1 2 3 4 5 6 7 8 9 10 11 12 13 14 15 16 17 18 1...  \n",
       "1         Position 1       45 46 47 48 49 50 51 52 53 54 55 56 57 58 59  \n",
       "2         Evidence 1    60 61 62 63 64 65 66 67 68 69 70 71 72 73 74 75  \n",
       "3         Evidence 2  76 77 78 79 80 81 82 83 84 85 86 87 88 89 90 9...  \n",
       "4            Claim 1  139 140 141 142 143 144 145 146 147 148 149 15...  "
      ]
     },
     "execution_count": 62,
     "metadata": {},
     "output_type": "execute_result"
    }
   ],
   "source": [
    "# Import dataset from Github\n",
    "train_data = pd.read_csv(\"https://raw.githubusercontent.com/irhuru/writing-evaluation/main/train.csv\")\n",
    "train_data.head()"
   ]
  },
  {
   "cell_type": "markdown",
   "id": "34bf0101",
   "metadata": {},
   "source": [
    "## Exploratory Data Analysis (EDA)"
   ]
  },
  {
   "cell_type": "markdown",
   "id": "c9762ca9",
   "metadata": {},
   "source": [
    "#### Missing values"
   ]
  },
  {
   "cell_type": "code",
   "execution_count": 63,
   "id": "e5413f4b",
   "metadata": {},
   "outputs": [
    {
     "data": {
      "text/plain": [
       "id                    0\n",
       "discourse_id          0\n",
       "discourse_start       0\n",
       "discourse_end         0\n",
       "discourse_text        0\n",
       "discourse_type        0\n",
       "discourse_type_num    0\n",
       "predictionstring      0\n",
       "dtype: int64"
      ]
     },
     "execution_count": 63,
     "metadata": {},
     "output_type": "execute_result"
    }
   ],
   "source": [
    "# Check for missing values\n",
    "train_data.isnull().sum()"
   ]
  },
  {
   "cell_type": "markdown",
   "id": "844fd516",
   "metadata": {},
   "source": [
    "#### Duplicate values"
   ]
  },
  {
   "cell_type": "code",
   "execution_count": 64,
   "id": "4cf8f605",
   "metadata": {},
   "outputs": [
    {
     "data": {
      "text/plain": [
       "id                    0\n",
       "discourse_id          0\n",
       "discourse_start       0\n",
       "discourse_end         0\n",
       "discourse_text        0\n",
       "discourse_type        0\n",
       "discourse_type_num    0\n",
       "predictionstring      0\n",
       "dtype: int64"
      ]
     },
     "execution_count": 64,
     "metadata": {},
     "output_type": "execute_result"
    }
   ],
   "source": [
    "# Check for duplicates\n",
    "train_data.isnull().sum()"
   ]
  },
  {
   "cell_type": "markdown",
   "id": "e242150c",
   "metadata": {},
   "source": [
    "#### How many words (on average) does each segment contain?"
   ]
  },
  {
   "cell_type": "code",
   "execution_count": 65,
   "id": "017b4bbc",
   "metadata": {},
   "outputs": [
    {
     "data": {
      "text/plain": [
       "1"
      ]
     },
     "execution_count": 65,
     "metadata": {},
     "output_type": "execute_result"
    }
   ],
   "source": [
    "# Step 1: Adding a new column with number of words per discourse_text\n",
    "str_len = []\n",
    "for row in train_data['predictionstring']:\n",
    "    l = len(row.split())\n",
    "    str_len.append(l)\n",
    "train_data['str_len'] = str_len\n",
    "\n",
    "# Step 2: Calculate average, max, and min\n",
    "train_data['str_len'].mean() # 43.42 words\n",
    "train_data['str_len'].max() # 836 words\n",
    "train_data['str_len'].min() # 1 word"
   ]
  },
  {
   "cell_type": "markdown",
   "id": "10326d19",
   "metadata": {},
   "source": [
    "#### Overall number of discourse elements"
   ]
  },
  {
   "cell_type": "code",
   "execution_count": 66,
   "id": "bc2539a1",
   "metadata": {},
   "outputs": [
    {
     "data": {
      "text/html": [
       "<div>\n",
       "<style scoped>\n",
       "    .dataframe tbody tr th:only-of-type {\n",
       "        vertical-align: middle;\n",
       "    }\n",
       "\n",
       "    .dataframe tbody tr th {\n",
       "        vertical-align: top;\n",
       "    }\n",
       "\n",
       "    .dataframe thead th {\n",
       "        text-align: right;\n",
       "    }\n",
       "</style>\n",
       "<table border=\"1\" class=\"dataframe\">\n",
       "  <thead>\n",
       "    <tr style=\"text-align: right;\">\n",
       "      <th></th>\n",
       "      <th>discourse_type</th>\n",
       "      <th>0</th>\n",
       "    </tr>\n",
       "  </thead>\n",
       "  <tbody>\n",
       "    <tr>\n",
       "      <th>0</th>\n",
       "      <td>Claim</td>\n",
       "      <td>50208</td>\n",
       "    </tr>\n",
       "    <tr>\n",
       "      <th>1</th>\n",
       "      <td>Concluding Statement</td>\n",
       "      <td>13505</td>\n",
       "    </tr>\n",
       "    <tr>\n",
       "      <th>2</th>\n",
       "      <td>Counterclaim</td>\n",
       "      <td>5817</td>\n",
       "    </tr>\n",
       "    <tr>\n",
       "      <th>3</th>\n",
       "      <td>Evidence</td>\n",
       "      <td>45702</td>\n",
       "    </tr>\n",
       "    <tr>\n",
       "      <th>4</th>\n",
       "      <td>Lead</td>\n",
       "      <td>9305</td>\n",
       "    </tr>\n",
       "    <tr>\n",
       "      <th>5</th>\n",
       "      <td>Position</td>\n",
       "      <td>15419</td>\n",
       "    </tr>\n",
       "    <tr>\n",
       "      <th>6</th>\n",
       "      <td>Rebuttal</td>\n",
       "      <td>4337</td>\n",
       "    </tr>\n",
       "  </tbody>\n",
       "</table>\n",
       "</div>"
      ],
      "text/plain": [
       "         discourse_type      0\n",
       "0                 Claim  50208\n",
       "1  Concluding Statement  13505\n",
       "2          Counterclaim   5817\n",
       "3              Evidence  45702\n",
       "4                  Lead   9305\n",
       "5              Position  15419\n",
       "6              Rebuttal   4337"
      ]
     },
     "execution_count": 66,
     "metadata": {},
     "output_type": "execute_result"
    }
   ],
   "source": [
    "df_elements = train_data.groupby(['discourse_type']).size().reset_index()\n",
    "df_elements"
   ]
  },
  {
   "cell_type": "code",
   "execution_count": 67,
   "id": "47a00bfb",
   "metadata": {},
   "outputs": [
    {
     "data": {
      "image/png": "[encoded data removed]",
      "text/plain": [
       "<Figure size 576x576 with 1 Axes>"
      ]
     },
     "metadata": {
      "needs_background": "light"
     },
     "output_type": "display_data"
    }
   ],
   "source": [
    "# Visualization\n",
    "fig, ax = plt.subplots(1)\n",
    "fig.set_size_inches(8,8)\n",
    "ax.barh(df_elements['discourse_type'], df_elements[0], color = ['C1', 'C2', 'C3', 'C4', 'C5', 'C6', 'C7'])\n",
    "ax.set_title('Overall Number of Discourse Elements')\n",
    "ax.tick_params(axis='x', labelrotation = 45)"
   ]
  },
  {
   "cell_type": "markdown",
   "id": "d766d66d",
   "metadata": {},
   "source": [
    "#### Distribution of discourse elements per essay"
   ]
  },
  {
   "cell_type": "code",
   "execution_count": 68,
   "id": "ff3a1243",
   "metadata": {},
   "outputs": [
    {
     "data": {
      "text/html": [
       "<div>\n",
       "<style scoped>\n",
       "    .dataframe tbody tr th:only-of-type {\n",
       "        vertical-align: middle;\n",
       "    }\n",
       "\n",
       "    .dataframe tbody tr th {\n",
       "        vertical-align: top;\n",
       "    }\n",
       "\n",
       "    .dataframe thead th {\n",
       "        text-align: right;\n",
       "    }\n",
       "</style>\n",
       "<table border=\"1\" class=\"dataframe\">\n",
       "  <thead>\n",
       "    <tr style=\"text-align: right;\">\n",
       "      <th></th>\n",
       "      <th>stats</th>\n",
       "      <th>discourse_type</th>\n",
       "      <th>values</th>\n",
       "    </tr>\n",
       "  </thead>\n",
       "  <tbody>\n",
       "    <tr>\n",
       "      <th>25</th>\n",
       "      <td>mean</td>\n",
       "      <td>Evidence</td>\n",
       "      <td>2.939035</td>\n",
       "    </tr>\n",
       "    <tr>\n",
       "      <th>33</th>\n",
       "      <td>mean</td>\n",
       "      <td>Lead</td>\n",
       "      <td>1.000430</td>\n",
       "    </tr>\n",
       "    <tr>\n",
       "      <th>1</th>\n",
       "      <td>mean</td>\n",
       "      <td>Claim</td>\n",
       "      <td>3.363569</td>\n",
       "    </tr>\n",
       "    <tr>\n",
       "      <th>49</th>\n",
       "      <td>mean</td>\n",
       "      <td>Rebuttal</td>\n",
       "      <td>1.205392</td>\n",
       "    </tr>\n",
       "    <tr>\n",
       "      <th>17</th>\n",
       "      <td>mean</td>\n",
       "      <td>Counterclaim</td>\n",
       "      <td>1.271198</td>\n",
       "    </tr>\n",
       "    <tr>\n",
       "      <th>41</th>\n",
       "      <td>mean</td>\n",
       "      <td>Position</td>\n",
       "      <td>1.003449</td>\n",
       "    </tr>\n",
       "    <tr>\n",
       "      <th>9</th>\n",
       "      <td>mean</td>\n",
       "      <td>Concluding Statement</td>\n",
       "      <td>1.006484</td>\n",
       "    </tr>\n",
       "  </tbody>\n",
       "</table>\n",
       "</div>"
      ],
      "text/plain": [
       "   stats        discourse_type    values\n",
       "25  mean              Evidence  2.939035\n",
       "33  mean                  Lead  1.000430\n",
       "1   mean                 Claim  3.363569\n",
       "49  mean              Rebuttal  1.205392\n",
       "17  mean          Counterclaim  1.271198\n",
       "41  mean              Position  1.003449\n",
       "9   mean  Concluding Statement  1.006484"
      ]
     },
     "execution_count": 68,
     "metadata": {},
     "output_type": "execute_result"
    }
   ],
   "source": [
    "# Step 1: Grouping by id and discourse type\n",
    "df_ind_distribution = train_data.groupby(['id','discourse_type']).size().reset_index()\n",
    "\n",
    "# Step 2: Creating a pivot table based on column values\n",
    "df_ind_distribution = df_ind_distribution.pivot(index = 'id', columns='discourse_type', values = 0)\n",
    "\n",
    "# Step 3: Calculating descriptive stats for each discourse type\n",
    "distribution_summary = df_ind_distribution.describe()\n",
    "distribution_summary['stats'] = ['count', 'mean', 'std', 'min', '25%', '50%', '75%', 'max']\n",
    "distribution_summary = (distribution_summary.melt(id_vars=[\"stats\"],\n",
    "                           value_vars =[\"Claim\",'Concluding Statement','Counterclaim',\n",
    "                                       'Evidence', 'Lead', 'Position', 'Rebuttal'],value_name=\"values\")\n",
    " .replace('', np.nan,)\n",
    " .dropna()\n",
    " .sort_values('stats'))\n",
    "distribution_summary = distribution_summary[distribution_summary['stats'] == 'mean']\n",
    "distribution_summary"
   ]
  },
  {
   "cell_type": "code",
   "execution_count": 69,
   "id": "006282b7",
   "metadata": {},
   "outputs": [
    {
     "data": {
      "image/png": "[encoded data removed]",
      "text/plain": [
       "<Figure size 576x576 with 1 Axes>"
      ]
     },
     "metadata": {
      "needs_background": "light"
     },
     "output_type": "display_data"
    }
   ],
   "source": [
    "# Visualization\n",
    "fig, ax = plt.subplots(1)\n",
    "fig.set_size_inches(8,8)\n",
    "ax.bar(distribution_summary['discourse_type'], distribution_summary['values'], color = ['C1', 'C2', 'C3', 'C4', 'C5', 'C6', 'C7'])\n",
    "ax.set_title('Distribution of Discourse Elements per Essay')\n",
    "ax.set_ylabel('Mean use of each discourse type per essay')\n",
    "ax.tick_params(axis='x', labelrotation = 45)"
   ]
  },
  {
   "cell_type": "code",
   "execution_count": null,
   "id": "58a9fc57",
   "metadata": {},
   "outputs": [],
   "source": [
    "## TO DO (DUE FRIDAY MAY 20)\n",
    "# Look for missing values and duplicates\n",
    "# Basic data manipulation and preliminary feature engineering\n",
    "# Other data cleaning and pre-processing\n",
    "\n",
    "## TO DO (DUE NEXT WEEK)\n",
    "# EDA + visualizations: distribution of variables, outliers, descriptive stats\n",
    "# Written proposal of modeling approach\n",
    "# Dimensionality reduction (if needed)"
   ]
  }
 ],
 "metadata": {
  "kernelspec": {
   "display_name": "Python 3 (ipykernel)",
   "language": "python",
   "name": "python3"
  },
  "language_info": {
   "codemirror_mode": {
    "name": "ipython",
    "version": 3
   },
   "file_extension": ".py",
   "mimetype": "text/x-python",
   "name": "python",
   "nbconvert_exporter": "python",
   "pygments_lexer": "ipython3",
   "version": "3.9.7"
  }
 },
 "nbformat": 4,
 "nbformat_minor": 5
}
