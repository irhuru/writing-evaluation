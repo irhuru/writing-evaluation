{
 "cells": [
  {
   "cell_type": "code",
   "execution_count": 1,
   "id": "353d5724",
   "metadata": {},
   "outputs": [],
   "source": [
    "import pandas as pd\n",
    "import numpy as np"
   ]
  },
  {
   "cell_type": "code",
   "execution_count": 2,
   "id": "fddd1d2b",
   "metadata": {},
   "outputs": [],
   "source": [
    "data = pd.read_csv(\"train.csv\")"
   ]
  },
  {
   "cell_type": "code",
   "execution_count": 3,
   "id": "7e28e43c",
   "metadata": {},
   "outputs": [
    {
     "data": {
      "text/html": [
       "<div>\n",
       "<style scoped>\n",
       "    .dataframe tbody tr th:only-of-type {\n",
       "        vertical-align: middle;\n",
       "    }\n",
       "\n",
       "    .dataframe tbody tr th {\n",
       "        vertical-align: top;\n",
       "    }\n",
       "\n",
       "    .dataframe thead th {\n",
       "        text-align: right;\n",
       "    }\n",
       "</style>\n",
       "<table border=\"1\" class=\"dataframe\">\n",
       "  <thead>\n",
       "    <tr style=\"text-align: right;\">\n",
       "      <th></th>\n",
       "      <th>id</th>\n",
       "      <th>discourse_id</th>\n",
       "      <th>discourse_start</th>\n",
       "      <th>discourse_end</th>\n",
       "      <th>discourse_text</th>\n",
       "      <th>discourse_type</th>\n",
       "      <th>discourse_type_num</th>\n",
       "      <th>predictionstring</th>\n",
       "    </tr>\n",
       "  </thead>\n",
       "  <tbody>\n",
       "    <tr>\n",
       "      <th>0</th>\n",
       "      <td>423A1CA112E2</td>\n",
       "      <td>1.622628e+12</td>\n",
       "      <td>8.0</td>\n",
       "      <td>229.0</td>\n",
       "      <td>Modern humans today are always on their phone....</td>\n",
       "      <td>Lead</td>\n",
       "      <td>Lead 1</td>\n",
       "      <td>1 2 3 4 5 6 7 8 9 10 11 12 13 14 15 16 17 18 1...</td>\n",
       "    </tr>\n",
       "    <tr>\n",
       "      <th>1</th>\n",
       "      <td>423A1CA112E2</td>\n",
       "      <td>1.622628e+12</td>\n",
       "      <td>230.0</td>\n",
       "      <td>312.0</td>\n",
       "      <td>They are some really bad consequences when stu...</td>\n",
       "      <td>Position</td>\n",
       "      <td>Position 1</td>\n",
       "      <td>45 46 47 48 49 50 51 52 53 54 55 56 57 58 59</td>\n",
       "    </tr>\n",
       "    <tr>\n",
       "      <th>2</th>\n",
       "      <td>423A1CA112E2</td>\n",
       "      <td>1.622628e+12</td>\n",
       "      <td>313.0</td>\n",
       "      <td>401.0</td>\n",
       "      <td>Some certain areas in the United States ban ph...</td>\n",
       "      <td>Evidence</td>\n",
       "      <td>Evidence 1</td>\n",
       "      <td>60 61 62 63 64 65 66 67 68 69 70 71 72 73 74 75</td>\n",
       "    </tr>\n",
       "    <tr>\n",
       "      <th>3</th>\n",
       "      <td>423A1CA112E2</td>\n",
       "      <td>1.622628e+12</td>\n",
       "      <td>402.0</td>\n",
       "      <td>758.0</td>\n",
       "      <td>When people have phones, they know about certa...</td>\n",
       "      <td>Evidence</td>\n",
       "      <td>Evidence 2</td>\n",
       "      <td>76 77 78 79 80 81 82 83 84 85 86 87 88 89 90 9...</td>\n",
       "    </tr>\n",
       "    <tr>\n",
       "      <th>4</th>\n",
       "      <td>423A1CA112E2</td>\n",
       "      <td>1.622628e+12</td>\n",
       "      <td>759.0</td>\n",
       "      <td>886.0</td>\n",
       "      <td>Driving is one of the way how to get around. P...</td>\n",
       "      <td>Claim</td>\n",
       "      <td>Claim 1</td>\n",
       "      <td>139 140 141 142 143 144 145 146 147 148 149 15...</td>\n",
       "    </tr>\n",
       "    <tr>\n",
       "      <th>5</th>\n",
       "      <td>423A1CA112E2</td>\n",
       "      <td>1.622628e+12</td>\n",
       "      <td>887.0</td>\n",
       "      <td>1150.0</td>\n",
       "      <td>That's why there's a thing that's called no te...</td>\n",
       "      <td>Evidence</td>\n",
       "      <td>Evidence 3</td>\n",
       "      <td>163 164 165 166 167 168 169 170 171 172 173 17...</td>\n",
       "    </tr>\n",
       "    <tr>\n",
       "      <th>6</th>\n",
       "      <td>423A1CA112E2</td>\n",
       "      <td>1.622628e+12</td>\n",
       "      <td>1151.0</td>\n",
       "      <td>1533.0</td>\n",
       "      <td>Sometimes on the news there is either an accid...</td>\n",
       "      <td>Evidence</td>\n",
       "      <td>Evidence 4</td>\n",
       "      <td>211 212 213 214 215 216 217 218 219 220 221 22...</td>\n",
       "    </tr>\n",
       "    <tr>\n",
       "      <th>7</th>\n",
       "      <td>423A1CA112E2</td>\n",
       "      <td>1.622628e+12</td>\n",
       "      <td>1534.0</td>\n",
       "      <td>1602.0</td>\n",
       "      <td>Phones are fine to use and it's also the best ...</td>\n",
       "      <td>Claim</td>\n",
       "      <td>Claim 2</td>\n",
       "      <td>282 283 284 285 286 287 288 289 290 291 292 29...</td>\n",
       "    </tr>\n",
       "    <tr>\n",
       "      <th>8</th>\n",
       "      <td>423A1CA112E2</td>\n",
       "      <td>1.622628e+12</td>\n",
       "      <td>1603.0</td>\n",
       "      <td>1890.0</td>\n",
       "      <td>If you go through a problem and you can't find...</td>\n",
       "      <td>Evidence</td>\n",
       "      <td>Evidence 5</td>\n",
       "      <td>297 298 299 300 301 302 303 304 305 306 307 30...</td>\n",
       "    </tr>\n",
       "    <tr>\n",
       "      <th>9</th>\n",
       "      <td>423A1CA112E2</td>\n",
       "      <td>1.622628e+12</td>\n",
       "      <td>1891.0</td>\n",
       "      <td>2027.0</td>\n",
       "      <td>The news always updated when people do somethi...</td>\n",
       "      <td>Concluding Statement</td>\n",
       "      <td>Concluding Statement 1</td>\n",
       "      <td>355 356 357 358 359 360 361 362 363 364 365 36...</td>\n",
       "    </tr>\n",
       "    <tr>\n",
       "      <th>10</th>\n",
       "      <td>A8445CABFECE</td>\n",
       "      <td>1.622576e+12</td>\n",
       "      <td>18.0</td>\n",
       "      <td>85.0</td>\n",
       "      <td>Drivers should not be able to use phones while...</td>\n",
       "      <td>Position</td>\n",
       "      <td>Position 1</td>\n",
       "      <td>3 4 5 6 7 8 9 10 11 12 13 14</td>\n",
       "    </tr>\n",
       "  </tbody>\n",
       "</table>\n",
       "</div>"
      ],
      "text/plain": [
       "              id  discourse_id  discourse_start  discourse_end  \\\n",
       "0   423A1CA112E2  1.622628e+12              8.0          229.0   \n",
       "1   423A1CA112E2  1.622628e+12            230.0          312.0   \n",
       "2   423A1CA112E2  1.622628e+12            313.0          401.0   \n",
       "3   423A1CA112E2  1.622628e+12            402.0          758.0   \n",
       "4   423A1CA112E2  1.622628e+12            759.0          886.0   \n",
       "5   423A1CA112E2  1.622628e+12            887.0         1150.0   \n",
       "6   423A1CA112E2  1.622628e+12           1151.0         1533.0   \n",
       "7   423A1CA112E2  1.622628e+12           1534.0         1602.0   \n",
       "8   423A1CA112E2  1.622628e+12           1603.0         1890.0   \n",
       "9   423A1CA112E2  1.622628e+12           1891.0         2027.0   \n",
       "10  A8445CABFECE  1.622576e+12             18.0           85.0   \n",
       "\n",
       "                                       discourse_text        discourse_type  \\\n",
       "0   Modern humans today are always on their phone....                  Lead   \n",
       "1   They are some really bad consequences when stu...              Position   \n",
       "2   Some certain areas in the United States ban ph...              Evidence   \n",
       "3   When people have phones, they know about certa...              Evidence   \n",
       "4   Driving is one of the way how to get around. P...                 Claim   \n",
       "5   That's why there's a thing that's called no te...              Evidence   \n",
       "6   Sometimes on the news there is either an accid...              Evidence   \n",
       "7   Phones are fine to use and it's also the best ...                 Claim   \n",
       "8   If you go through a problem and you can't find...              Evidence   \n",
       "9   The news always updated when people do somethi...  Concluding Statement   \n",
       "10  Drivers should not be able to use phones while...              Position   \n",
       "\n",
       "        discourse_type_num                                   predictionstring  \n",
       "0                   Lead 1  1 2 3 4 5 6 7 8 9 10 11 12 13 14 15 16 17 18 1...  \n",
       "1               Position 1       45 46 47 48 49 50 51 52 53 54 55 56 57 58 59  \n",
       "2               Evidence 1    60 61 62 63 64 65 66 67 68 69 70 71 72 73 74 75  \n",
       "3               Evidence 2  76 77 78 79 80 81 82 83 84 85 86 87 88 89 90 9...  \n",
       "4                  Claim 1  139 140 141 142 143 144 145 146 147 148 149 15...  \n",
       "5               Evidence 3  163 164 165 166 167 168 169 170 171 172 173 17...  \n",
       "6               Evidence 4  211 212 213 214 215 216 217 218 219 220 221 22...  \n",
       "7                  Claim 2  282 283 284 285 286 287 288 289 290 291 292 29...  \n",
       "8               Evidence 5  297 298 299 300 301 302 303 304 305 306 307 30...  \n",
       "9   Concluding Statement 1  355 356 357 358 359 360 361 362 363 364 365 36...  \n",
       "10              Position 1                       3 4 5 6 7 8 9 10 11 12 13 14  "
      ]
     },
     "execution_count": 3,
     "metadata": {},
     "output_type": "execute_result"
    }
   ],
   "source": [
    "data.loc[0:10]"
   ]
  },
  {
   "cell_type": "code",
   "execution_count": 4,
   "id": "2810cc1c",
   "metadata": {},
   "outputs": [
    {
     "data": {
      "text/plain": [
       "(144293, 8)"
      ]
     },
     "execution_count": 4,
     "metadata": {},
     "output_type": "execute_result"
    }
   ],
   "source": [
    "data.shape"
   ]
  },
  {
   "cell_type": "code",
   "execution_count": 5,
   "id": "adf24a56",
   "metadata": {},
   "outputs": [
    {
     "name": "stdout",
     "output_type": "stream",
     "text": [
      "E272662CDFFC\n",
      "\n",
      "                                                                                                                                                                                                                                                                                                                                                                                                                                                                                                                                         discourse_text  \\\n",
      "114860                                                                                                                                                                                                                                                                                                                                                                                                Long distance schooling is not a effective way of teaching students. It offers little benefits and raises a multitude of new issues to deal with.   \n",
      "114861                                                                                                                                                                                                                                                                                                                                                                                                                                             It could hinder the student learning process and leave them with a less then satisfactory education    \n",
      "114862                                                                                                                                                                                                                                                                                                                                                                                                     It could also stifle the way in which young children and young adults develop important social skills which are needed in the modern world.    \n",
      "114863                                                                                                                                                                                                                                                            Most students are lazy and tired of the same mundane routine of doing school work day in and day out. The only thing which keeps them on task is a teacher which is ever present helping them learn and grow, so what would happen if there was no teacher to monitor these students.   \n",
      "114864                                                                                                                                                                                                                                                                                    The students would never accomplish anything meaningful, because they would have too many distractions all around them at home such as TV, video games, snacks, and many more enticing appliances and goods to steer their attention from that of education.    \n",
      "114865                                                                                                                                                                                                                                       Students need teachers present to help them with their studies more than anything else in their learning career. A teacher over video or call could be less efficient and more irritated by the technology which could seriously hinder the student learning experience and the teachers ability to teach    \n",
      "114866                                                                                                                                                                                                                                                                          Many older and more experienced teachers could find it hard to adapt to the new technology or outright refuse to use it out of frustration. This would restrict those students at home from getting the best possible education from the most experienced of teachers.    \n",
      "114867                                                                                                                                                                                                                                                                                                                                                                                                                    Students need a healthy and large dose of social interaction with other students to properly develop important social skills.   \n",
      "114868                                                                                                                               Students need this sort of interaction and it plays a key role in not just their education, but their entire life. A long distance learning program could shut these particular students off from the rest of society causing many unseen mental and physical effects. These students would then be unprepared fof the challenges ahead in life and leave them at a disadvantage when compared to other students.    \n",
      "114869                                                                                                                                                                                                                                                                                                                                                                                                 What about students with disabilities? Wouldnt it be easier for both the school system and the student with the disability to just stay at home?   \n",
      "114870  Most school systems already have a well organized and defined public transportation system to take them to school and many schools already offer specialized classes and programs specifically for these less gifted students. What if the student is sick or wants to stay at home? Schools already are integrated well enough into the internet that teachers can give them assignments and classwork while they are at home sick and if a students wants to work from home there is always the option of home schooling and private tutors.    \n",
      "114871                                                                                                             In the end, most students are better off just going to school and learning under the guidance of physical teachers and interacting with other students in the school environment. Long distance learning programs offer more issues than benefits and would stifle the way in which students learn and grow in many different ways. This is why long distance learning programs are not a viable alternative to traditional schools.   \n",
      "\n",
      "            discourse_type_num  \n",
      "114860              Position 1  \n",
      "114861                 Claim 1  \n",
      "114862                 Claim 2  \n",
      "114863                 Claim 3  \n",
      "114864              Evidence 1  \n",
      "114865                 Claim 4  \n",
      "114866              Evidence 2  \n",
      "114867                 Claim 5  \n",
      "114868              Evidence 3  \n",
      "114869                 Claim 6  \n",
      "114870              Evidence 4  \n",
      "114871  Concluding Statement 1  \n",
      "\n",
      "\n",
      "\n",
      "['Long distance schooling is not a effective way of teaching students. It offers little benefits and raises a multitude of new issues to deal with. It could hinder the student learning process and leave them with a\\xa0less then satisfactory education. It could also stifle the way in which young children and young adults develop important social skills which are needed in the modern world.\\n', '\\n', 'Most students are lazy and tired of the same mundane routine of doing school work day in and day out. The only thing which keeps them on task is a teacher which is\\xa0ever present\\xa0helping them learn and grow, so what would happen if there was no teacher to monitor these students. The students would never accomplish anything meaningful, because they would have too many distractions all around them at home such as TV, video games, snacks, and many more enticing appliances and goods to steer their attention from\\xa0that of education.\\n', '\\n', 'Students need teachers present to help them with their studies more than anything else in their learning career. A teacher over video or call could be less efficient and more irritated by the technology which could seriously hinder the student learning experience and\\xa0the teachers ability to teach. Many older and more experienced teachers could find it hard to adapt to the new technology or outright refuse to use it out of frustration. This would restrict those students at home from getting the best possible education\\xa0from the most experienced of\\xa0teachers.\\n', '\\n', 'Students need a healthy and large dose of social interaction with other students to properly develop important social skills. Students need this sort of interaction and it plays a key role in not just their education, but their entire life. A long distance learning program could shut these particular students off from the rest of society causing many unseen\\xa0mental and physical effects. These students would then be unprepared fof the challenges ahead in life and leave them at a disadvantage when compared to other students.\\n', '\\n', 'What about students with disabilities? Wouldnt it be easier for both the school system and the student with the disability to just stay at home? Most school systems already have a well organized and defined public transportation system to take them to school and many schools already offer specialized classes and programs specifically for these less gifted students. What if the student is sick or wants to stay at home? Schools already are integrated well enough into the internet that teachers can give them assignments and classwork while they are at home sick and if a students wants to work from home there is always the option of home schooling and private tutors.\\n', '\\n', 'In the end, most students are better off just going to school and learning under the guidance of physical teachers and interacting with other students in the school environment. Long distance learning programs offer more issues than benefits and would stifle the way in which students learn and grow in many different ways. This is why long distance learning programs are not a viable alternative to traditional schools.']\n"
     ]
    }
   ],
   "source": [
    "pd.set_option('display.max_colwidth', None)\n",
    "x = np.random.randint(0,[144293])[0]\n",
    "print(data.iloc[x].id)\n",
    "print()\n",
    "print(data[data.id==data.loc[x].id][[\"discourse_text\",\"discourse_type_num\"]])\n",
    "print(\"\\n\\n\")\n",
    "str(data.iloc[x].id)+'.txt'\n",
    "with open('train/'+str(data.iloc[x].id)+'.txt') as f:\n",
    "    lines = f.readlines()\n",
    "    print(lines)"
   ]
  },
  {
   "cell_type": "markdown",
   "id": "f1f29608",
   "metadata": {},
   "source": [
    "## Following the tensorflow BERT tutorial"
   ]
  },
  {
   "cell_type": "code",
   "execution_count": 13,
   "id": "3e16fc6b",
   "metadata": {},
   "outputs": [
    {
     "name": "stderr",
     "output_type": "stream",
     "text": [
      "2022-05-22 17:51:45.023479: I tensorflow/core/platform/cpu_feature_guard.cc:151] This TensorFlow binary is optimized with oneAPI Deep Neural Network Library (oneDNN) to use the following CPU instructions in performance-critical operations:  AVX2 FMA\n",
      "To enable them in other operations, rebuild TensorFlow with the appropriate compiler flags.\n"
     ]
    }
   ],
   "source": [
    "\n",
    "\n",
    "import os\n",
    "\n",
    "import numpy as np\n",
    "import matplotlib.pyplot as plt\n",
    "\n",
    "import tensorflow as tf\n",
    "\n",
    "import tensorflow_hub as hub\n",
    "\n",
    "import tensorflow.keras as keras\n",
    "\n",
    "import tensorflow_text as text\n",
    "\n",
    "import bert\n",
    "\n",
    "from transformers import TFBertModel, BertConfig, BertTokenizer\n",
    "\n",
    "from tensorflow.keras import layers\n",
    "\n",
    "from tokenizers import BertWordPieceTokenizer"
   ]
  },
  {
   "cell_type": "code",
   "execution_count": 16,
   "id": "59e4a0c8",
   "metadata": {},
   "outputs": [],
   "source": [
    "max_len = 364\n",
    "configuration = BertConfig(output_hidden_states=True)"
   ]
  },
  {
   "cell_type": "markdown",
   "id": "544336f4",
   "metadata": {},
   "source": [
    "## tutorial from keras.io text extraction with BERT\n"
   ]
  },
  {
   "cell_type": "code",
   "execution_count": 29,
   "id": "2b37a6a0",
   "metadata": {
    "scrolled": true
   },
   "outputs": [],
   "source": [
    "# Save the slow pretrained tokenizer\n",
    "slow_tokenizer = BertTokenizer.from_pretrained(\"bert-base-uncased\")\n",
    "save_path = \"bert_base_uncased/\"\n",
    "if not os.path.exists(save_path):\n",
    "    os.makedirs(save_path)\n",
    "slow_tokenizer.save_pretrained(save_path)\n",
    "\n",
    "# Load the fast tokenizer from saved file\n",
    "tokenizer = BertTokenizer(\"bert_base_uncased/vocab.txt\", lowercase=True)"
   ]
  },
  {
   "cell_type": "code",
   "execution_count": 20,
   "id": "a2a9ffff",
   "metadata": {},
   "outputs": [
    {
     "name": "stderr",
     "output_type": "stream",
     "text": [
      "Some layers from the model checkpoint at bert-base-uncased were not used when initializing TFBertModel: ['mlm___cls', 'nsp___cls']\n",
      "- This IS expected if you are initializing TFBertModel from the checkpoint of a model trained on another task or with another architecture (e.g. initializing a BertForSequenceClassification model from a BertForPreTraining model).\n",
      "- This IS NOT expected if you are initializing TFBertModel from the checkpoint of a model that you expect to be exactly identical (initializing a BertForSequenceClassification model from a BertForSequenceClassification model).\n",
      "All the layers of TFBertModel were initialized from the model checkpoint at bert-base-uncased.\n",
      "If your task is similar to the task the model of the checkpoint was trained on, you can already use TFBertModel for predictions without further training.\n"
     ]
    }
   ],
   "source": [
    "model = TFBertModel.from_pretrained(\"bert-base-uncased\", config=configuration)"
   ]
  },
  {
   "cell_type": "code",
   "execution_count": 30,
   "id": "903753c0",
   "metadata": {},
   "outputs": [],
   "source": [
    "tokens = tokenizer(\"This is a small sentence.\", return_tensors =\"tf\")\n"
   ]
  },
  {
   "cell_type": "code",
   "execution_count": 36,
   "id": "f131396a",
   "metadata": {},
   "outputs": [],
   "source": [
    "tokens = tokenizer.tokenize(\"Many people believe that the Electoral College should be abolished, while others believe that the Electoral College should stay as it is. However, what most people who want to keep the electoral college, do not know is that when you vote for a presidential candidate you are actually voting for a slate of electors, who in turn elect the president. Which means that the people do not get a direct vote towards the president. Therefore, it can cause disinterest in people who are eligible to vote. That is why I argue in favor of changing to election by popular vote for the president of the United States.\", )"
   ]
  },
  {
   "cell_type": "code",
   "execution_count": 37,
   "id": "abdff49b",
   "metadata": {},
   "outputs": [
    {
     "data": {
      "text/plain": [
       "['many',\n",
       " 'people',\n",
       " 'believe',\n",
       " 'that',\n",
       " 'the',\n",
       " 'electoral',\n",
       " 'college',\n",
       " 'should',\n",
       " 'be',\n",
       " 'abolished',\n",
       " ',',\n",
       " 'while',\n",
       " 'others',\n",
       " 'believe',\n",
       " 'that',\n",
       " 'the',\n",
       " 'electoral',\n",
       " 'college',\n",
       " 'should',\n",
       " 'stay',\n",
       " 'as',\n",
       " 'it',\n",
       " 'is',\n",
       " '.',\n",
       " 'however',\n",
       " ',',\n",
       " 'what',\n",
       " 'most',\n",
       " 'people',\n",
       " 'who',\n",
       " 'want',\n",
       " 'to',\n",
       " 'keep',\n",
       " 'the',\n",
       " 'electoral',\n",
       " 'college',\n",
       " ',',\n",
       " 'do',\n",
       " 'not',\n",
       " 'know',\n",
       " 'is',\n",
       " 'that',\n",
       " 'when',\n",
       " 'you',\n",
       " 'vote',\n",
       " 'for',\n",
       " 'a',\n",
       " 'presidential',\n",
       " 'candidate',\n",
       " 'you',\n",
       " 'are',\n",
       " 'actually',\n",
       " 'voting',\n",
       " 'for',\n",
       " 'a',\n",
       " 'slate',\n",
       " 'of',\n",
       " 'electors',\n",
       " ',',\n",
       " 'who',\n",
       " 'in',\n",
       " 'turn',\n",
       " 'elect',\n",
       " 'the',\n",
       " 'president',\n",
       " '.',\n",
       " 'which',\n",
       " 'means',\n",
       " 'that',\n",
       " 'the',\n",
       " 'people',\n",
       " 'do',\n",
       " 'not',\n",
       " 'get',\n",
       " 'a',\n",
       " 'direct',\n",
       " 'vote',\n",
       " 'towards',\n",
       " 'the',\n",
       " 'president',\n",
       " '.',\n",
       " 'therefore',\n",
       " ',',\n",
       " 'it',\n",
       " 'can',\n",
       " 'cause',\n",
       " 'di',\n",
       " '##sin',\n",
       " '##ter',\n",
       " '##est',\n",
       " 'in',\n",
       " 'people',\n",
       " 'who',\n",
       " 'are',\n",
       " 'eligible',\n",
       " 'to',\n",
       " 'vote',\n",
       " '.',\n",
       " 'that',\n",
       " 'is',\n",
       " 'why',\n",
       " 'i',\n",
       " 'argue',\n",
       " 'in',\n",
       " 'favor',\n",
       " 'of',\n",
       " 'changing',\n",
       " 'to',\n",
       " 'election',\n",
       " 'by',\n",
       " 'popular',\n",
       " 'vote',\n",
       " 'for',\n",
       " 'the',\n",
       " 'president',\n",
       " 'of',\n",
       " 'the',\n",
       " 'united',\n",
       " 'states',\n",
       " '.']"
      ]
     },
     "execution_count": 37,
     "metadata": {},
     "output_type": "execute_result"
    }
   ],
   "source": []
  },
  {
   "cell_type": "code",
   "execution_count": 33,
   "id": "e011b7b6",
   "metadata": {},
   "outputs": [
    {
     "name": "stdout",
     "output_type": "stream",
     "text": [
      "3\n",
      "13\n"
     ]
    }
   ],
   "source": [
    "outputs = model(tokens)\n",
    "print(len(outputs))  # 3\n",
    "\n",
    "hidden_states = outputs[2]\n",
    "print(len(hidden_states))  # 13\n",
    "\n",
    "embedding_output = hidden_states[0]\n",
    "attention_hidden_states = hidden_states[1:]"
   ]
  },
  {
   "cell_type": "code",
   "execution_count": 34,
   "id": "8e6b62ab",
   "metadata": {},
   "outputs": [
    {
     "data": {
      "text/plain": [
       "<tf.Tensor: shape=(1, 8, 768), dtype=float32, numpy=\n",
       "array([[[ 0.02635193,  0.01314409, -0.17075144, ...,  0.2222535 ,\n",
       "         -0.08741534, -0.04998829],\n",
       "        [-0.5958896 ,  0.5481141 ,  0.01230422, ...,  0.01090115,\n",
       "          0.47464278, -0.09991167],\n",
       "        [-0.9763061 , -0.27699506, -0.42241806, ...,  0.10030463,\n",
       "          0.28635797,  0.36921403],\n",
       "        ...,\n",
       "        [ 1.4039623 ,  0.74860734, -0.12611185, ...,  0.08754024,\n",
       "         -1.0338867 , -1.5489107 ],\n",
       "        [-0.24411929, -0.02700187, -0.1673829 , ...,  0.03068825,\n",
       "          0.3111734 ,  0.3369305 ],\n",
       "        [-0.15733352, -0.100463  ,  0.11813852, ..., -0.19662291,\n",
       "          0.4997784 ,  0.02692628]]], dtype=float32)>"
      ]
     },
     "execution_count": 34,
     "metadata": {},
     "output_type": "execute_result"
    }
   ],
   "source": [
    "hidden_states[1]"
   ]
  },
  {
   "cell_type": "code",
   "execution_count": null,
   "id": "594af7c6",
   "metadata": {},
   "outputs": [],
   "source": []
  }
 ],
 "metadata": {
  "kernelspec": {
   "display_name": "Python 3 (ipykernel)",
   "language": "python",
   "name": "python3"
  },
  "language_info": {
   "codemirror_mode": {
    "name": "ipython",
    "version": 3
   },
   "file_extension": ".py",
   "mimetype": "text/x-python",
   "name": "python",
   "nbconvert_exporter": "python",
   "pygments_lexer": "ipython3",
   "version": "3.10.1"
  }
 },
 "nbformat": 4,
 "nbformat_minor": 5
}
