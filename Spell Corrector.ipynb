{
 "cells": [
  {
   "cell_type": "code",
   "execution_count": 4,
   "metadata": {},
   "outputs": [],
   "source": [
    "import nltk\n",
    "from nltk.metrics.distance import jaccard_distance\n",
    "from nltk.util import ngrams\n",
    "from nltk.metrics.distance  import edit_distance"
   ]
  },
  {
   "cell_type": "code",
   "execution_count": 9,
   "metadata": {},
   "outputs": [],
   "source": [
    "import string"
   ]
  },
  {
   "cell_type": "code",
   "execution_count": 5,
   "metadata": {},
   "outputs": [
    {
     "name": "stderr",
     "output_type": "stream",
     "text": [
      "[nltk_data] Downloading package brown to\n",
      "[nltk_data]     C:\\Users\\kkara\\AppData\\Roaming\\nltk_data...\n",
      "[nltk_data]   Package brown is already up-to-date!\n"
     ]
    },
    {
     "data": {
      "text/plain": [
       "True"
      ]
     },
     "execution_count": 5,
     "metadata": {},
     "output_type": "execute_result"
    }
   ],
   "source": [
    "nltk.download('brown')"
   ]
  },
  {
   "cell_type": "code",
   "execution_count": 6,
   "metadata": {},
   "outputs": [],
   "source": [
    "from nltk.corpus import brown\n",
    "correct_words= brown.words()"
   ]
  },
  {
   "cell_type": "markdown",
   "metadata": {},
   "source": [
    "The next cell contains the spell corrector, is a function that uses the metric jaccard_distance, and edit_distance.\n",
    "\n",
    "First, it calculates the jaccard_distance, and is that result is not satisfactory and it calculates the corresponding \n",
    "edit_distance. Finally if the edit distance passes a pre-specified accuracy threhold then the correction goes through otherwise the function will return the initial word.\n",
    "\n",
    "The following function also takes into account some word formatting after tokenizing. To be more specific \n",
    "it can account for workds that either begin or end with a comma or a period. In which case the function outputs the corrected \n",
    "word with its proper punctuation element at its right position.\n",
    "\n"
   ]
  },
  {
   "cell_type": "code",
   "execution_count": 7,
   "metadata": {},
   "outputs": [],
   "source": [
    "def mistaCe(docu):\n",
    "    \n",
    "    if docu in string.punctuation:\n",
    "        return docu\n",
    "    wrds=docu\n",
    "    spellErr=[]\n",
    "    spellCorPair=[]\n",
    "    Jac_Pre_Score=0.7\n",
    "    Acceptable_Precision=3\n",
    "    Puncuat= False\n",
    "    PuncDot=False\n",
    "    PuncComa=False\n",
    "    Start_P=False\n",
    "    \n",
    "    if (docu.find(',')>-1        ) or ( docu.find('.')>-1  ):\n",
    "        Puncuat= True\n",
    "        if docu.find(',')>-1 :\n",
    "            PuncComa =True\n",
    "            if docu[0]==',':\n",
    "                Start_P=True\n",
    "                wrds=docu[1:]\n",
    "            else: \n",
    "                Start_P=False\n",
    "                wrds=docu[:-1]\n",
    "        else:\n",
    "            PuncDot = True\n",
    "            if docu[0]=='.':\n",
    "                Start_P=True\n",
    "                \n",
    "                wrds=docu[1:]\n",
    "            else: \n",
    "                Start_P=False\n",
    "                wrds=docu[:-1]\n",
    "    \n",
    "    \n",
    "    if (wrds[0] in string.punctuation) or (wrds[-1] in string.punctuation):\n",
    "        return docu\n",
    "    \n",
    "    \n",
    "    #for wrds in docu:           to correct a document\n",
    "    word=wrds.lower()\n",
    "    if word not in correct_words:\n",
    "        \n",
    "        \n",
    "        spellErr.append(word)\n",
    "            \n",
    "        temp_J=[ (jaccard_distance( set(  ngrams(word,2)  ),           \n",
    "                                     \n",
    "        \n",
    "                                   set(ngrams(w,2))),w) for w in correct_words if w[0]==word[0]] #We need the punctuation fixed for this to work.\n",
    "        \n",
    "        CandSco=sorted(temp_J, key = lambda val:val[0])\n",
    "        \n",
    "        if CandSco:\n",
    "            score_J,Cor_W_J = CandSco[0][0],CandSco[0][1]\n",
    "             \n",
    "        else: score_J=1    \n",
    "            \n",
    "        if (score_J>Jac_Pre_Score):\n",
    "            temp_E=[ (edit_distance( word,w),w) for w in correct_words if w[0]==word[0]] \n",
    "            \n",
    "            CandSco = sorted(temp_E, key = lambda val:val[0])\n",
    "            if CandSco:\n",
    "                score_J ,Cor_W_J =CandSco[0][0], CandSco[0][1]\n",
    "                \n",
    "            else:\n",
    "                return docu\n",
    "        if (score_J< Acceptable_Precision):\n",
    "            \n",
    "            if (not (wrds[0]==word[0])):\n",
    "                    Cor_W_J=Cor_W_J.capitalize()\n",
    "            \n",
    "                \n",
    "            \n",
    "            \n",
    "            spellCorPair.append( [wrds, Cor_W_J] )\n",
    "            \n",
    "            if Puncuat:\n",
    "                if PuncComa:\n",
    "             \n",
    "                    if Start_P:\n",
    "                \n",
    "                        Cor_W_J=','+Cor_W_J\n",
    "                        return Cor_W_J\n",
    "                    else:\n",
    "                        Cor_W_J=Cor_W_J\n",
    "                         \n",
    "                        return Cor_W_J+','\n",
    "                elif Start_P:\n",
    "                    Cor_W_J='.'+Cor_W_J\n",
    "                    return Cor_W_J\n",
    "                else:\n",
    "                    Cor_W_J=Cor_W_J+'.'\n",
    "                    return Cor_W_J\n",
    "                            \n",
    "            \n",
    "                return Cor_W_J \n",
    "            else: \n",
    "                return Cor_W_J\n",
    "    \n",
    "        else: return docu\n",
    "    \n",
    "    \n",
    "    else:\n",
    "        \n",
    "        \n",
    "        return docu            \n",
    "            \n",
    "        "
   ]
  },
  {
   "cell_type": "markdown",
   "metadata": {},
   "source": [
    "For a test we correct the word 'usgage.', which was one of the words found in among the student essays. "
   ]
  },
  {
   "cell_type": "code",
   "execution_count": 11,
   "metadata": {},
   "outputs": [
    {
     "name": "stdout",
     "output_type": "stream",
     "text": [
      "usage.\n"
     ]
    }
   ],
   "source": [
    "print(mistaCe('usgage.'))"
   ]
  },
  {
   "cell_type": "code",
   "execution_count": null,
   "metadata": {},
   "outputs": [],
   "source": []
  }
 ],
 "metadata": {
  "kernelspec": {
   "display_name": "Python 3",
   "language": "python",
   "name": "python3"
  },
  "language_info": {
   "codemirror_mode": {
    "name": "ipython",
    "version": 3
   },
   "file_extension": ".py",
   "mimetype": "text/x-python",
   "name": "python",
   "nbconvert_exporter": "python",
   "pygments_lexer": "ipython3",
   "version": "3.8.5"
  }
 },
 "nbformat": 4,
 "nbformat_minor": 4
}
