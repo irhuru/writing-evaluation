{
 "cells": [
  {
   "cell_type": "code",
   "execution_count": 1,
   "id": "353d5724",
   "metadata": {},
   "outputs": [],
   "source": [
    "import pandas as pd\n",
    "import numpy as np"
   ]
  },
  {
   "cell_type": "code",
   "execution_count": 2,
   "id": "fddd1d2b",
   "metadata": {},
   "outputs": [],
   "source": [
    "data = pd.read_csv(\"train.csv\")"
   ]
  },
  {
   "cell_type": "code",
   "execution_count": 3,
   "id": "7e28e43c",
   "metadata": {},
   "outputs": [
    {
     "data": {
      "text/html": [
       "<div>\n",
       "<style scoped>\n",
       "    .dataframe tbody tr th:only-of-type {\n",
       "        vertical-align: middle;\n",
       "    }\n",
       "\n",
       "    .dataframe tbody tr th {\n",
       "        vertical-align: top;\n",
       "    }\n",
       "\n",
       "    .dataframe thead th {\n",
       "        text-align: right;\n",
       "    }\n",
       "</style>\n",
       "<table border=\"1\" class=\"dataframe\">\n",
       "  <thead>\n",
       "    <tr style=\"text-align: right;\">\n",
       "      <th></th>\n",
       "      <th>id</th>\n",
       "      <th>discourse_id</th>\n",
       "      <th>discourse_start</th>\n",
       "      <th>discourse_end</th>\n",
       "      <th>discourse_text</th>\n",
       "      <th>discourse_type</th>\n",
       "      <th>discourse_type_num</th>\n",
       "      <th>predictionstring</th>\n",
       "    </tr>\n",
       "  </thead>\n",
       "  <tbody>\n",
       "    <tr>\n",
       "      <th>0</th>\n",
       "      <td>423A1CA112E2</td>\n",
       "      <td>1.622628e+12</td>\n",
       "      <td>8.0</td>\n",
       "      <td>229.0</td>\n",
       "      <td>Modern humans today are always on their phone....</td>\n",
       "      <td>Lead</td>\n",
       "      <td>Lead 1</td>\n",
       "      <td>1 2 3 4 5 6 7 8 9 10 11 12 13 14 15 16 17 18 1...</td>\n",
       "    </tr>\n",
       "    <tr>\n",
       "      <th>1</th>\n",
       "      <td>423A1CA112E2</td>\n",
       "      <td>1.622628e+12</td>\n",
       "      <td>230.0</td>\n",
       "      <td>312.0</td>\n",
       "      <td>They are some really bad consequences when stu...</td>\n",
       "      <td>Position</td>\n",
       "      <td>Position 1</td>\n",
       "      <td>45 46 47 48 49 50 51 52 53 54 55 56 57 58 59</td>\n",
       "    </tr>\n",
       "    <tr>\n",
       "      <th>2</th>\n",
       "      <td>423A1CA112E2</td>\n",
       "      <td>1.622628e+12</td>\n",
       "      <td>313.0</td>\n",
       "      <td>401.0</td>\n",
       "      <td>Some certain areas in the United States ban ph...</td>\n",
       "      <td>Evidence</td>\n",
       "      <td>Evidence 1</td>\n",
       "      <td>60 61 62 63 64 65 66 67 68 69 70 71 72 73 74 75</td>\n",
       "    </tr>\n",
       "    <tr>\n",
       "      <th>3</th>\n",
       "      <td>423A1CA112E2</td>\n",
       "      <td>1.622628e+12</td>\n",
       "      <td>402.0</td>\n",
       "      <td>758.0</td>\n",
       "      <td>When people have phones, they know about certa...</td>\n",
       "      <td>Evidence</td>\n",
       "      <td>Evidence 2</td>\n",
       "      <td>76 77 78 79 80 81 82 83 84 85 86 87 88 89 90 9...</td>\n",
       "    </tr>\n",
       "    <tr>\n",
       "      <th>4</th>\n",
       "      <td>423A1CA112E2</td>\n",
       "      <td>1.622628e+12</td>\n",
       "      <td>759.0</td>\n",
       "      <td>886.0</td>\n",
       "      <td>Driving is one of the way how to get around. P...</td>\n",
       "      <td>Claim</td>\n",
       "      <td>Claim 1</td>\n",
       "      <td>139 140 141 142 143 144 145 146 147 148 149 15...</td>\n",
       "    </tr>\n",
       "    <tr>\n",
       "      <th>5</th>\n",
       "      <td>423A1CA112E2</td>\n",
       "      <td>1.622628e+12</td>\n",
       "      <td>887.0</td>\n",
       "      <td>1150.0</td>\n",
       "      <td>That's why there's a thing that's called no te...</td>\n",
       "      <td>Evidence</td>\n",
       "      <td>Evidence 3</td>\n",
       "      <td>163 164 165 166 167 168 169 170 171 172 173 17...</td>\n",
       "    </tr>\n",
       "    <tr>\n",
       "      <th>6</th>\n",
       "      <td>423A1CA112E2</td>\n",
       "      <td>1.622628e+12</td>\n",
       "      <td>1151.0</td>\n",
       "      <td>1533.0</td>\n",
       "      <td>Sometimes on the news there is either an accid...</td>\n",
       "      <td>Evidence</td>\n",
       "      <td>Evidence 4</td>\n",
       "      <td>211 212 213 214 215 216 217 218 219 220 221 22...</td>\n",
       "    </tr>\n",
       "    <tr>\n",
       "      <th>7</th>\n",
       "      <td>423A1CA112E2</td>\n",
       "      <td>1.622628e+12</td>\n",
       "      <td>1534.0</td>\n",
       "      <td>1602.0</td>\n",
       "      <td>Phones are fine to use and it's also the best ...</td>\n",
       "      <td>Claim</td>\n",
       "      <td>Claim 2</td>\n",
       "      <td>282 283 284 285 286 287 288 289 290 291 292 29...</td>\n",
       "    </tr>\n",
       "    <tr>\n",
       "      <th>8</th>\n",
       "      <td>423A1CA112E2</td>\n",
       "      <td>1.622628e+12</td>\n",
       "      <td>1603.0</td>\n",
       "      <td>1890.0</td>\n",
       "      <td>If you go through a problem and you can't find...</td>\n",
       "      <td>Evidence</td>\n",
       "      <td>Evidence 5</td>\n",
       "      <td>297 298 299 300 301 302 303 304 305 306 307 30...</td>\n",
       "    </tr>\n",
       "    <tr>\n",
       "      <th>9</th>\n",
       "      <td>423A1CA112E2</td>\n",
       "      <td>1.622628e+12</td>\n",
       "      <td>1891.0</td>\n",
       "      <td>2027.0</td>\n",
       "      <td>The news always updated when people do somethi...</td>\n",
       "      <td>Concluding Statement</td>\n",
       "      <td>Concluding Statement 1</td>\n",
       "      <td>355 356 357 358 359 360 361 362 363 364 365 36...</td>\n",
       "    </tr>\n",
       "    <tr>\n",
       "      <th>10</th>\n",
       "      <td>A8445CABFECE</td>\n",
       "      <td>1.622576e+12</td>\n",
       "      <td>18.0</td>\n",
       "      <td>85.0</td>\n",
       "      <td>Drivers should not be able to use phones while...</td>\n",
       "      <td>Position</td>\n",
       "      <td>Position 1</td>\n",
       "      <td>3 4 5 6 7 8 9 10 11 12 13 14</td>\n",
       "    </tr>\n",
       "  </tbody>\n",
       "</table>\n",
       "</div>"
      ],
      "text/plain": [
       "              id  discourse_id  discourse_start  discourse_end  \\\n",
       "0   423A1CA112E2  1.622628e+12              8.0          229.0   \n",
       "1   423A1CA112E2  1.622628e+12            230.0          312.0   \n",
       "2   423A1CA112E2  1.622628e+12            313.0          401.0   \n",
       "3   423A1CA112E2  1.622628e+12            402.0          758.0   \n",
       "4   423A1CA112E2  1.622628e+12            759.0          886.0   \n",
       "5   423A1CA112E2  1.622628e+12            887.0         1150.0   \n",
       "6   423A1CA112E2  1.622628e+12           1151.0         1533.0   \n",
       "7   423A1CA112E2  1.622628e+12           1534.0         1602.0   \n",
       "8   423A1CA112E2  1.622628e+12           1603.0         1890.0   \n",
       "9   423A1CA112E2  1.622628e+12           1891.0         2027.0   \n",
       "10  A8445CABFECE  1.622576e+12             18.0           85.0   \n",
       "\n",
       "                                       discourse_text        discourse_type  \\\n",
       "0   Modern humans today are always on their phone....                  Lead   \n",
       "1   They are some really bad consequences when stu...              Position   \n",
       "2   Some certain areas in the United States ban ph...              Evidence   \n",
       "3   When people have phones, they know about certa...              Evidence   \n",
       "4   Driving is one of the way how to get around. P...                 Claim   \n",
       "5   That's why there's a thing that's called no te...              Evidence   \n",
       "6   Sometimes on the news there is either an accid...              Evidence   \n",
       "7   Phones are fine to use and it's also the best ...                 Claim   \n",
       "8   If you go through a problem and you can't find...              Evidence   \n",
       "9   The news always updated when people do somethi...  Concluding Statement   \n",
       "10  Drivers should not be able to use phones while...              Position   \n",
       "\n",
       "        discourse_type_num                                   predictionstring  \n",
       "0                   Lead 1  1 2 3 4 5 6 7 8 9 10 11 12 13 14 15 16 17 18 1...  \n",
       "1               Position 1       45 46 47 48 49 50 51 52 53 54 55 56 57 58 59  \n",
       "2               Evidence 1    60 61 62 63 64 65 66 67 68 69 70 71 72 73 74 75  \n",
       "3               Evidence 2  76 77 78 79 80 81 82 83 84 85 86 87 88 89 90 9...  \n",
       "4                  Claim 1  139 140 141 142 143 144 145 146 147 148 149 15...  \n",
       "5               Evidence 3  163 164 165 166 167 168 169 170 171 172 173 17...  \n",
       "6               Evidence 4  211 212 213 214 215 216 217 218 219 220 221 22...  \n",
       "7                  Claim 2  282 283 284 285 286 287 288 289 290 291 292 29...  \n",
       "8               Evidence 5  297 298 299 300 301 302 303 304 305 306 307 30...  \n",
       "9   Concluding Statement 1  355 356 357 358 359 360 361 362 363 364 365 36...  \n",
       "10              Position 1                       3 4 5 6 7 8 9 10 11 12 13 14  "
      ]
     },
     "execution_count": 3,
     "metadata": {},
     "output_type": "execute_result"
    }
   ],
   "source": [
    "data.loc[0:10]"
   ]
  },
  {
   "cell_type": "code",
   "execution_count": 4,
   "id": "2810cc1c",
   "metadata": {},
   "outputs": [
    {
     "data": {
      "text/plain": [
       "(144293, 8)"
      ]
     },
     "execution_count": 4,
     "metadata": {},
     "output_type": "execute_result"
    }
   ],
   "source": [
    "data.shape"
   ]
  },
  {
   "cell_type": "code",
   "execution_count": 5,
   "id": "adf24a56",
   "metadata": {},
   "outputs": [
    {
     "name": "stdout",
     "output_type": "stream",
     "text": [
      "1FBC2049262E\n",
      "\n",
      "                                                                                                                                                                                                                                                                                                                                                                                                                                                                                                                                                                                                                                                                                                                                                                                                                         discourse_text  \\\n",
      "7465                                                                                                                                                                                                                                                                                                                                                                                                                                                                                                                                                                                                                                                                                            All around the world different countries have been noticing some things in life that are just better without cars or atleast less cars.   \n",
      "7466                                                                                                                                                                                                                                                                                                                                                                                                                                                                                                                                                                                                                                                                                                                                                                                            With less cars things are more calming    \n",
      "7467                                                                                                                                                                                                                                                                                                                                                                                                                                                                                                                                                                                                                                                                                                                                                                            its also better for everyone, including the enviroment.   \n",
      "7468                                                                                                                                                                                                                                                                                                                                                                                                                                                                                                                                                                                                                                                                                                                                                                                things can be way more calm in a life without cars.   \n",
      "7469                                                                     Many people happen to beleive that cars can change how you feel for example \"When i had a car i was always tense. I'm much happier this way\"(3). Heidrun Walter always felt tense with a car now she feels calm and relaxed. Life with less cars can be so much more relaxing without all the loud annoying noises cars make. In Vauban they are making some changes to how the people live so they can live more easy and calm. \"Vauban, home to 5,500 residents within a rectangular square mile, may be the most advanced experiment in a low-car suburban life.\"(6). The way this civilization is all the people live close by and everything is close by so you dont really need a car. If everything is close by everything can be more fluent and calm.   \n",
      "7470                                                                                                                                                                                                                                                                                                                                                                                                                                                                                                                                                                                                                                                                                                                                                                                      it is also better for you and the enviroment    \n",
      "7471  \"passenger cars are responsible for 12% of greenhouse gas emission in europe... and up to 50% in some car-intensive areas in the United States.\"(5). Wherever you are in the world greenhouse gasses will most likley affect your environment in some unnatrual way and that is not the best thing for you, the people you know, or all the plants and animals. Without cars polluting earth we would be way more healthy and many animals may not be endangered or extinct like they are today.\"how much you drive is as important as whether you have a hybrid.\"(7). If you drive less its not just better for the environment and your health it can also be better for your wallet. If you drive less you save money on gas that you can use for many other things. Overall driving less turns out to be better for everyone.   \n",
      "7472                                                                                                                                                                                                                                                                                                                                                                                                                                                                                                                                                                                                                                                                                                  people driving less can make life easier and calmer, it is also better for people, plants, animals, and don't forget your wallet.   \n",
      "\n",
      "          discourse_type_num  \n",
      "7465              Position 1  \n",
      "7466                 Claim 1  \n",
      "7467                 Claim 2  \n",
      "7468                 Claim 3  \n",
      "7469              Evidence 1  \n",
      "7470                 Claim 4  \n",
      "7471              Evidence 2  \n",
      "7472  Concluding Statement 1  \n",
      "\n",
      "\n",
      "\n",
      "['All around the world different countries have been noticing some things in life that are just better without cars or atleast less cars. With less cars things are more calming; its also better for everyone, including the enviroment.\\n', '\\n', 'To begin with, things can be way more calm in a life without cars. Many people happen to beleive that cars can change how you feel for example \"When i had a car i was always tense. I\\'m much happier this way\"(3). Heidrun Walter always felt tense with a car now she feels calm and relaxed. Life with less cars can be so much more relaxing without all the loud annoying noises cars make. In Vauban they are making some changes to how the people live so they can live more easy and calm. \"Vauban, home to 5,500 residents within a rectangular square mile, may be the most advanced experiment in a low-car suburban life.\"(6). The way this civilization is all the people live close by and everything is close by so you dont really need a car. If everything is close by everything can be more fluent and calm.\\n', '\\n', 'In addition, it may be more calm without cars but it is also better for you and the enviroment. \"passenger cars are responsible for 12% of greenhouse gas emission in europe... and up to 50% in some car-intensive areas in the United States.\"(5). Wherever you are in the world greenhouse gasses will most likley affect your environment in some unnatrual way and that is not the best thing for you, the people you know, or all the plants and animals. Without cars polluting earth we would be way more healthy and many animals may not be endangered or extinct like they are today.\"how much you drive is as important as whether you have a hybrid.\"(7). If you drive less its not just better for the environment and your health it can also be better for your wallet. If you drive less you save money on gas that you can use for many other things. Overall driving less turns out to be better for everyone.\\n', '\\n', \"In conclusion, people driving less can make life easier and calmer, it is also better for people, plants, animals, and don't forget your wallet.\\xa0    \"]\n"
     ]
    }
   ],
   "source": [
    "pd.set_option('display.max_colwidth', None)\n",
    "x = np.random.randint(0,[144293])[0]\n",
    "print(data.iloc[x].id)\n",
    "print()\n",
    "print(data[data.id==data.loc[x].id][[\"discourse_text\",\"discourse_type_num\"]])\n",
    "print(\"\\n\\n\")\n",
    "str(data.iloc[x].id)+'.txt'\n",
    "with open('train/'+str(data.iloc[x].id)+'.txt') as f:\n",
    "    lines = f.readlines()\n",
    "    print(lines)"
   ]
  },
  {
   "cell_type": "markdown",
   "id": "b908f4be",
   "metadata": {},
   "source": [
    "## Following the tensorflow BERT tutorial"
   ]
  },
  {
   "cell_type": "code",
   "execution_count": 6,
   "id": "3e16fc6b",
   "metadata": {},
   "outputs": [
    {
     "name": "stderr",
     "output_type": "stream",
     "text": [
      "2022-05-23 10:07:31.573572: I tensorflow/core/platform/cpu_feature_guard.cc:151] This TensorFlow binary is optimized with oneAPI Deep Neural Network Library (oneDNN) to use the following CPU instructions in performance-critical operations:  AVX2 FMA\n",
      "To enable them in other operations, rebuild TensorFlow with the appropriate compiler flags.\n"
     ]
    }
   ],
   "source": [
    "\n",
    "\n",
    "import os\n",
    "\n",
    "import numpy as np\n",
    "import matplotlib.pyplot as plt\n",
    "\n",
    "import tensorflow as tf\n",
    "\n",
    "import tensorflow_hub as hub\n",
    "\n",
    "import tensorflow.keras as keras\n",
    "\n",
    "import tensorflow_text as text\n",
    "\n",
    "import bert\n",
    "\n",
    "from transformers import TFBertModel, BertConfig, BertTokenizer\n",
    "\n",
    "from tensorflow.keras import layers\n",
    "\n",
    "from tokenizers import BertWordPieceTokenizer"
   ]
  },
  {
   "cell_type": "code",
   "execution_count": 7,
   "id": "59e4a0c8",
   "metadata": {},
   "outputs": [],
   "source": [
    "max_len = 364\n",
    "configuration = BertConfig(output_hidden_states=True)"
   ]
  },
  {
   "cell_type": "markdown",
   "id": "e4ea3103",
   "metadata": {},
   "source": [
    "## tutorial from keras.io text extraction with BERT\n"
   ]
  },
  {
   "cell_type": "code",
   "execution_count": 8,
   "id": "0bd13ab2",
   "metadata": {
    "scrolled": true
   },
   "outputs": [],
   "source": [
    "# Save the slow pretrained tokenizer\n",
    "slow_tokenizer = BertTokenizer.from_pretrained(\"bert-base-uncased\")\n",
    "save_path = \"bert_base_uncased/\"\n",
    "if not os.path.exists(save_path):\n",
    "    os.makedirs(save_path)\n",
    "slow_tokenizer.save_pretrained(save_path)\n",
    "\n",
    "# Load the fast tokenizer from saved file\n",
    "tokenizer = BertTokenizer(\"bert_base_uncased/vocab.txt\", lowercase=True)"
   ]
  },
  {
   "cell_type": "code",
   "execution_count": 9,
   "id": "b6c80f92",
   "metadata": {},
   "outputs": [
    {
     "name": "stderr",
     "output_type": "stream",
     "text": [
      "Some layers from the model checkpoint at bert-base-uncased were not used when initializing TFBertModel: ['mlm___cls', 'nsp___cls']\n",
      "- This IS expected if you are initializing TFBertModel from the checkpoint of a model trained on another task or with another architecture (e.g. initializing a BertForSequenceClassification model from a BertForPreTraining model).\n",
      "- This IS NOT expected if you are initializing TFBertModel from the checkpoint of a model that you expect to be exactly identical (initializing a BertForSequenceClassification model from a BertForSequenceClassification model).\n",
      "All the layers of TFBertModel were initialized from the model checkpoint at bert-base-uncased.\n",
      "If your task is similar to the task the model of the checkpoint was trained on, you can already use TFBertModel for predictions without further training.\n"
     ]
    }
   ],
   "source": [
    "model = TFBertModel.from_pretrained(\"bert-base-uncased\", config=configuration)"
   ]
  },
  {
   "cell_type": "code",
   "execution_count": 21,
   "id": "728814a9",
   "metadata": {},
   "outputs": [
    {
     "name": "stdout",
     "output_type": "stream",
     "text": [
      "{'input_ids': <tf.Tensor: shape=(1, 10), dtype=int32, numpy=\n",
      "array([[ 101, 2028, 1012,  102, 2028, 2460, 6251, 2460, 1012,  102]],\n",
      "      dtype=int32)>, 'token_type_ids': <tf.Tensor: shape=(1, 10), dtype=int32, numpy=array([[0, 0, 0, 0, 1, 1, 1, 1, 1, 1]], dtype=int32)>, 'attention_mask': <tf.Tensor: shape=(1, 10), dtype=int32, numpy=array([[1, 1, 1, 1, 1, 1, 1, 1, 1, 1]], dtype=int32)>}\n"
     ]
    }
   ],
   "source": [
    "tokens = tokenizer.encode_plus(\"One. \", \"One short sentence short.\", \" Hello friend.\",  # maximum length of a sentence\n",
    "    pad_to_max_length=True,  # Add [PAD]s\n",
    "    return_attention_mask = True,  # Generate the attention mask\n",
    "    return_tensors = 'tf'\n",
    "                              )\n",
    "print(tokens)"
   ]
  },
  {
   "cell_type": "code",
   "execution_count": 22,
   "id": "30ad2729",
   "metadata": {},
   "outputs": [
    {
     "data": {
      "text/plain": [
       "<tf.Tensor: shape=(1, 10, 768), dtype=float32, numpy=\n",
       "array([[[-0.24667083, -0.03104116, -0.52856493, ..., -0.45312554,\n",
       "          0.24253574,  0.3914031 ],\n",
       "        [-0.12952062, -0.45887968, -0.6460501 , ...,  0.13332042,\n",
       "          0.64121157,  0.19036917],\n",
       "        [-0.63241535, -0.7423376 , -0.49782598, ...,  0.61106247,\n",
       "          0.31030506, -0.5502998 ],\n",
       "        ...,\n",
       "        [ 0.10222562, -0.04072233, -0.14299254, ..., -0.08979049,\n",
       "          0.06220614, -0.20934309],\n",
       "        [ 0.7370381 , -0.04299054, -0.618948  , ...,  0.13325801,\n",
       "         -0.31115365, -0.320015  ],\n",
       "        [ 0.84929156, -0.0548588 , -0.6002508 , ...,  0.16416922,\n",
       "         -0.34933597, -0.25471267]]], dtype=float32)>"
      ]
     },
     "execution_count": 22,
     "metadata": {},
     "output_type": "execute_result"
    }
   ],
   "source": [
    "model(tokens).last_hidden_state"
   ]
  },
  {
   "cell_type": "code",
   "execution_count": 77,
   "id": "5949429c",
   "metadata": {},
   "outputs": [
    {
     "data": {
      "text/plain": [
       "<tf.Tensor: shape=(1, 12, 768), dtype=float32, numpy=\n",
       "array([[[-0.11370594,  0.11691775, -0.10730496, ..., -0.3399709 ,\n",
       "          0.2530314 ,  0.6903751 ],\n",
       "        [-0.51107824, -0.08288598,  0.24628703, ..., -0.13993774,\n",
       "          0.03633105,  0.894439  ],\n",
       "        [-0.19683118, -0.20921662,  0.19922468, ..., -0.02733088,\n",
       "          0.11338456,  1.0472364 ],\n",
       "        ...,\n",
       "        [ 0.60888886, -0.40845504,  0.10645159, ..., -0.7748293 ,\n",
       "         -0.20368706, -0.04161462],\n",
       "        [ 0.10792276, -0.7061552 , -0.71147954, ...,  0.37472823,\n",
       "          0.5758974 ,  0.1508598 ],\n",
       "        [ 0.7728993 ,  0.31993365,  0.03112878, ..., -0.04425373,\n",
       "         -0.58441895, -0.39986992]]], dtype=float32)>"
      ]
     },
     "execution_count": 77,
     "metadata": {},
     "output_type": "execute_result"
    }
   ],
   "source": []
  },
  {
   "cell_type": "code",
   "execution_count": 70,
   "id": "e945117d",
   "metadata": {},
   "outputs": [
    {
     "data": {
      "text/plain": [
       "{'input_ids': <tf.Tensor: shape=(1, 12), dtype=int32, numpy=\n",
       "array([[ 101, 2023, 2003, 1037, 2235, 6251, 1012, 2079, 2017, 2228, 1012,\n",
       "         102]], dtype=int32)>, 'token_type_ids': <tf.Tensor: shape=(1, 12), dtype=int32, numpy=array([[0, 0, 0, 0, 0, 0, 0, 0, 0, 0, 0, 0]], dtype=int32)>, 'attention_mask': <tf.Tensor: shape=(1, 12), dtype=int32, numpy=array([[1, 1, 1, 1, 1, 1, 1, 1, 1, 1, 1, 1]], dtype=int32)>}"
      ]
     },
     "execution_count": 70,
     "metadata": {},
     "output_type": "execute_result"
    }
   ],
   "source": [
    "tokens"
   ]
  },
  {
   "cell_type": "code",
   "execution_count": 23,
   "id": "22122e49",
   "metadata": {},
   "outputs": [
    {
     "name": "stdout",
     "output_type": "stream",
     "text": [
      "3\n",
      "13\n"
     ]
    }
   ],
   "source": [
    "outputs = model(tokens)\n",
    "print(len(outputs))  # 3\n",
    "\n",
    "hidden_states = outputs[2]\n",
    "print(len(hidden_states))  # 13\n",
    "\n",
    "embedding_output = hidden_states[0]\n",
    "attention_hidden_states = hidden_states[1:]"
   ]
  },
  {
   "cell_type": "code",
   "execution_count": 33,
   "id": "b79b811e",
   "metadata": {},
   "outputs": [
    {
     "data": {
      "text/plain": [
       "<tf.Tensor: shape=(1, 10, 768), dtype=float32, numpy=\n",
       "array([[[-0.24667083, -0.03104116, -0.52856493, ..., -0.45312554,\n",
       "          0.24253574,  0.3914031 ],\n",
       "        [-0.12952062, -0.45887968, -0.6460501 , ...,  0.13332042,\n",
       "          0.64121157,  0.19036917],\n",
       "        [-0.63241535, -0.7423376 , -0.49782598, ...,  0.61106247,\n",
       "          0.31030506, -0.5502998 ],\n",
       "        ...,\n",
       "        [ 0.10222562, -0.04072233, -0.14299254, ..., -0.08979049,\n",
       "          0.06220614, -0.20934309],\n",
       "        [ 0.7370381 , -0.04299054, -0.618948  , ...,  0.13325801,\n",
       "         -0.31115365, -0.320015  ],\n",
       "        [ 0.84929156, -0.0548588 , -0.6002508 , ...,  0.16416922,\n",
       "         -0.34933597, -0.25471267]]], dtype=float32)>"
      ]
     },
     "execution_count": 33,
     "metadata": {},
     "output_type": "execute_result"
    }
   ],
   "source": [
    "hidden_states[12]"
   ]
  },
  {
   "cell_type": "code",
   "execution_count": null,
   "id": "101b7328",
   "metadata": {},
   "outputs": [],
   "source": []
  }
 ],
 "metadata": {
  "kernelspec": {
   "display_name": "Python 3 (ipykernel)",
   "language": "python",
   "name": "python3"
  },
  "language_info": {
   "codemirror_mode": {
    "name": "ipython",
    "version": 3
   },
   "file_extension": ".py",
   "mimetype": "text/x-python",
   "name": "python",
   "nbconvert_exporter": "python",
   "pygments_lexer": "ipython3",
   "version": "3.10.1"
  }
 },
 "nbformat": 4,
 "nbformat_minor": 5
}
