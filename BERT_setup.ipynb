{
 "cells": [
  {
   "cell_type": "code",
   "execution_count": 1,
   "id": "353d5724",
   "metadata": {},
   "outputs": [],
   "source": [
    "import pandas as pd\n",
    "import numpy as np"
   ]
  },
  {
   "cell_type": "code",
   "execution_count": 2,
   "id": "fddd1d2b",
   "metadata": {},
   "outputs": [],
   "source": [
    "data = pd.read_csv(\"train.csv\")"
   ]
  },
  {
   "cell_type": "code",
   "execution_count": 3,
   "id": "7e28e43c",
   "metadata": {},
   "outputs": [
    {
     "data": {
      "text/html": [
       "<div>\n",
       "<style scoped>\n",
       "    .dataframe tbody tr th:only-of-type {\n",
       "        vertical-align: middle;\n",
       "    }\n",
       "\n",
       "    .dataframe tbody tr th {\n",
       "        vertical-align: top;\n",
       "    }\n",
       "\n",
       "    .dataframe thead th {\n",
       "        text-align: right;\n",
       "    }\n",
       "</style>\n",
       "<table border=\"1\" class=\"dataframe\">\n",
       "  <thead>\n",
       "    <tr style=\"text-align: right;\">\n",
       "      <th></th>\n",
       "      <th>id</th>\n",
       "      <th>discourse_id</th>\n",
       "      <th>discourse_start</th>\n",
       "      <th>discourse_end</th>\n",
       "      <th>discourse_text</th>\n",
       "      <th>discourse_type</th>\n",
       "      <th>discourse_type_num</th>\n",
       "      <th>predictionstring</th>\n",
       "    </tr>\n",
       "  </thead>\n",
       "  <tbody>\n",
       "    <tr>\n",
       "      <th>0</th>\n",
       "      <td>423A1CA112E2</td>\n",
       "      <td>1.622628e+12</td>\n",
       "      <td>8.0</td>\n",
       "      <td>229.0</td>\n",
       "      <td>Modern humans today are always on their phone....</td>\n",
       "      <td>Lead</td>\n",
       "      <td>Lead 1</td>\n",
       "      <td>1 2 3 4 5 6 7 8 9 10 11 12 13 14 15 16 17 18 1...</td>\n",
       "    </tr>\n",
       "    <tr>\n",
       "      <th>1</th>\n",
       "      <td>423A1CA112E2</td>\n",
       "      <td>1.622628e+12</td>\n",
       "      <td>230.0</td>\n",
       "      <td>312.0</td>\n",
       "      <td>They are some really bad consequences when stu...</td>\n",
       "      <td>Position</td>\n",
       "      <td>Position 1</td>\n",
       "      <td>45 46 47 48 49 50 51 52 53 54 55 56 57 58 59</td>\n",
       "    </tr>\n",
       "    <tr>\n",
       "      <th>2</th>\n",
       "      <td>423A1CA112E2</td>\n",
       "      <td>1.622628e+12</td>\n",
       "      <td>313.0</td>\n",
       "      <td>401.0</td>\n",
       "      <td>Some certain areas in the United States ban ph...</td>\n",
       "      <td>Evidence</td>\n",
       "      <td>Evidence 1</td>\n",
       "      <td>60 61 62 63 64 65 66 67 68 69 70 71 72 73 74 75</td>\n",
       "    </tr>\n",
       "    <tr>\n",
       "      <th>3</th>\n",
       "      <td>423A1CA112E2</td>\n",
       "      <td>1.622628e+12</td>\n",
       "      <td>402.0</td>\n",
       "      <td>758.0</td>\n",
       "      <td>When people have phones, they know about certa...</td>\n",
       "      <td>Evidence</td>\n",
       "      <td>Evidence 2</td>\n",
       "      <td>76 77 78 79 80 81 82 83 84 85 86 87 88 89 90 9...</td>\n",
       "    </tr>\n",
       "    <tr>\n",
       "      <th>4</th>\n",
       "      <td>423A1CA112E2</td>\n",
       "      <td>1.622628e+12</td>\n",
       "      <td>759.0</td>\n",
       "      <td>886.0</td>\n",
       "      <td>Driving is one of the way how to get around. P...</td>\n",
       "      <td>Claim</td>\n",
       "      <td>Claim 1</td>\n",
       "      <td>139 140 141 142 143 144 145 146 147 148 149 15...</td>\n",
       "    </tr>\n",
       "    <tr>\n",
       "      <th>5</th>\n",
       "      <td>423A1CA112E2</td>\n",
       "      <td>1.622628e+12</td>\n",
       "      <td>887.0</td>\n",
       "      <td>1150.0</td>\n",
       "      <td>That's why there's a thing that's called no te...</td>\n",
       "      <td>Evidence</td>\n",
       "      <td>Evidence 3</td>\n",
       "      <td>163 164 165 166 167 168 169 170 171 172 173 17...</td>\n",
       "    </tr>\n",
       "    <tr>\n",
       "      <th>6</th>\n",
       "      <td>423A1CA112E2</td>\n",
       "      <td>1.622628e+12</td>\n",
       "      <td>1151.0</td>\n",
       "      <td>1533.0</td>\n",
       "      <td>Sometimes on the news there is either an accid...</td>\n",
       "      <td>Evidence</td>\n",
       "      <td>Evidence 4</td>\n",
       "      <td>211 212 213 214 215 216 217 218 219 220 221 22...</td>\n",
       "    </tr>\n",
       "    <tr>\n",
       "      <th>7</th>\n",
       "      <td>423A1CA112E2</td>\n",
       "      <td>1.622628e+12</td>\n",
       "      <td>1534.0</td>\n",
       "      <td>1602.0</td>\n",
       "      <td>Phones are fine to use and it's also the best ...</td>\n",
       "      <td>Claim</td>\n",
       "      <td>Claim 2</td>\n",
       "      <td>282 283 284 285 286 287 288 289 290 291 292 29...</td>\n",
       "    </tr>\n",
       "    <tr>\n",
       "      <th>8</th>\n",
       "      <td>423A1CA112E2</td>\n",
       "      <td>1.622628e+12</td>\n",
       "      <td>1603.0</td>\n",
       "      <td>1890.0</td>\n",
       "      <td>If you go through a problem and you can't find...</td>\n",
       "      <td>Evidence</td>\n",
       "      <td>Evidence 5</td>\n",
       "      <td>297 298 299 300 301 302 303 304 305 306 307 30...</td>\n",
       "    </tr>\n",
       "    <tr>\n",
       "      <th>9</th>\n",
       "      <td>423A1CA112E2</td>\n",
       "      <td>1.622628e+12</td>\n",
       "      <td>1891.0</td>\n",
       "      <td>2027.0</td>\n",
       "      <td>The news always updated when people do somethi...</td>\n",
       "      <td>Concluding Statement</td>\n",
       "      <td>Concluding Statement 1</td>\n",
       "      <td>355 356 357 358 359 360 361 362 363 364 365 36...</td>\n",
       "    </tr>\n",
       "    <tr>\n",
       "      <th>10</th>\n",
       "      <td>A8445CABFECE</td>\n",
       "      <td>1.622576e+12</td>\n",
       "      <td>18.0</td>\n",
       "      <td>85.0</td>\n",
       "      <td>Drivers should not be able to use phones while...</td>\n",
       "      <td>Position</td>\n",
       "      <td>Position 1</td>\n",
       "      <td>3 4 5 6 7 8 9 10 11 12 13 14</td>\n",
       "    </tr>\n",
       "  </tbody>\n",
       "</table>\n",
       "</div>"
      ],
      "text/plain": [
       "              id  discourse_id  discourse_start  discourse_end  \\\n",
       "0   423A1CA112E2  1.622628e+12              8.0          229.0   \n",
       "1   423A1CA112E2  1.622628e+12            230.0          312.0   \n",
       "2   423A1CA112E2  1.622628e+12            313.0          401.0   \n",
       "3   423A1CA112E2  1.622628e+12            402.0          758.0   \n",
       "4   423A1CA112E2  1.622628e+12            759.0          886.0   \n",
       "5   423A1CA112E2  1.622628e+12            887.0         1150.0   \n",
       "6   423A1CA112E2  1.622628e+12           1151.0         1533.0   \n",
       "7   423A1CA112E2  1.622628e+12           1534.0         1602.0   \n",
       "8   423A1CA112E2  1.622628e+12           1603.0         1890.0   \n",
       "9   423A1CA112E2  1.622628e+12           1891.0         2027.0   \n",
       "10  A8445CABFECE  1.622576e+12             18.0           85.0   \n",
       "\n",
       "                                       discourse_text        discourse_type  \\\n",
       "0   Modern humans today are always on their phone....                  Lead   \n",
       "1   They are some really bad consequences when stu...              Position   \n",
       "2   Some certain areas in the United States ban ph...              Evidence   \n",
       "3   When people have phones, they know about certa...              Evidence   \n",
       "4   Driving is one of the way how to get around. P...                 Claim   \n",
       "5   That's why there's a thing that's called no te...              Evidence   \n",
       "6   Sometimes on the news there is either an accid...              Evidence   \n",
       "7   Phones are fine to use and it's also the best ...                 Claim   \n",
       "8   If you go through a problem and you can't find...              Evidence   \n",
       "9   The news always updated when people do somethi...  Concluding Statement   \n",
       "10  Drivers should not be able to use phones while...              Position   \n",
       "\n",
       "        discourse_type_num                                   predictionstring  \n",
       "0                   Lead 1  1 2 3 4 5 6 7 8 9 10 11 12 13 14 15 16 17 18 1...  \n",
       "1               Position 1       45 46 47 48 49 50 51 52 53 54 55 56 57 58 59  \n",
       "2               Evidence 1    60 61 62 63 64 65 66 67 68 69 70 71 72 73 74 75  \n",
       "3               Evidence 2  76 77 78 79 80 81 82 83 84 85 86 87 88 89 90 9...  \n",
       "4                  Claim 1  139 140 141 142 143 144 145 146 147 148 149 15...  \n",
       "5               Evidence 3  163 164 165 166 167 168 169 170 171 172 173 17...  \n",
       "6               Evidence 4  211 212 213 214 215 216 217 218 219 220 221 22...  \n",
       "7                  Claim 2  282 283 284 285 286 287 288 289 290 291 292 29...  \n",
       "8               Evidence 5  297 298 299 300 301 302 303 304 305 306 307 30...  \n",
       "9   Concluding Statement 1  355 356 357 358 359 360 361 362 363 364 365 36...  \n",
       "10              Position 1                       3 4 5 6 7 8 9 10 11 12 13 14  "
      ]
     },
     "execution_count": 3,
     "metadata": {},
     "output_type": "execute_result"
    }
   ],
   "source": [
    "data.loc[0:10]"
   ]
  },
  {
   "cell_type": "code",
   "execution_count": 4,
   "id": "2810cc1c",
   "metadata": {},
   "outputs": [
    {
     "data": {
      "text/plain": [
       "(144293, 8)"
      ]
     },
     "execution_count": 4,
     "metadata": {},
     "output_type": "execute_result"
    }
   ],
   "source": [
    "data.shape"
   ]
  },
  {
   "cell_type": "code",
   "execution_count": 5,
   "id": "adf24a56",
   "metadata": {},
   "outputs": [
    {
     "name": "stdout",
     "output_type": "stream",
     "text": [
      "E272662CDFFC\n",
      "\n",
      "                                                                                                                                                                                                                                                                                                                                                                                                                                                                                                                                         discourse_text  \\\n",
      "114860                                                                                                                                                                                                                                                                                                                                                                                                Long distance schooling is not a effective way of teaching students. It offers little benefits and raises a multitude of new issues to deal with.   \n",
      "114861                                                                                                                                                                                                                                                                                                                                                                                                                                             It could hinder the student learning process and leave them with a less then satisfactory education    \n",
      "114862                                                                                                                                                                                                                                                                                                                                                                                                     It could also stifle the way in which young children and young adults develop important social skills which are needed in the modern world.    \n",
      "114863                                                                                                                                                                                                                                                            Most students are lazy and tired of the same mundane routine of doing school work day in and day out. The only thing which keeps them on task is a teacher which is ever present helping them learn and grow, so what would happen if there was no teacher to monitor these students.   \n",
      "114864                                                                                                                                                                                                                                                                                    The students would never accomplish anything meaningful, because they would have too many distractions all around them at home such as TV, video games, snacks, and many more enticing appliances and goods to steer their attention from that of education.    \n",
      "114865                                                                                                                                                                                                                                       Students need teachers present to help them with their studies more than anything else in their learning career. A teacher over video or call could be less efficient and more irritated by the technology which could seriously hinder the student learning experience and the teachers ability to teach    \n",
      "114866                                                                                                                                                                                                                                                                          Many older and more experienced teachers could find it hard to adapt to the new technology or outright refuse to use it out of frustration. This would restrict those students at home from getting the best possible education from the most experienced of teachers.    \n",
      "114867                                                                                                                                                                                                                                                                                                                                                                                                                    Students need a healthy and large dose of social interaction with other students to properly develop important social skills.   \n",
      "114868                                                                                                                               Students need this sort of interaction and it plays a key role in not just their education, but their entire life. A long distance learning program could shut these particular students off from the rest of society causing many unseen mental and physical effects. These students would then be unprepared fof the challenges ahead in life and leave them at a disadvantage when compared to other students.    \n",
      "114869                                                                                                                                                                                                                                                                                                                                                                                                 What about students with disabilities? Wouldnt it be easier for both the school system and the student with the disability to just stay at home?   \n",
      "114870  Most school systems already have a well organized and defined public transportation system to take them to school and many schools already offer specialized classes and programs specifically for these less gifted students. What if the student is sick or wants to stay at home? Schools already are integrated well enough into the internet that teachers can give them assignments and classwork while they are at home sick and if a students wants to work from home there is always the option of home schooling and private tutors.    \n",
      "114871                                                                                                             In the end, most students are better off just going to school and learning under the guidance of physical teachers and interacting with other students in the school environment. Long distance learning programs offer more issues than benefits and would stifle the way in which students learn and grow in many different ways. This is why long distance learning programs are not a viable alternative to traditional schools.   \n",
      "\n",
      "            discourse_type_num  \n",
      "114860              Position 1  \n",
      "114861                 Claim 1  \n",
      "114862                 Claim 2  \n",
      "114863                 Claim 3  \n",
      "114864              Evidence 1  \n",
      "114865                 Claim 4  \n",
      "114866              Evidence 2  \n",
      "114867                 Claim 5  \n",
      "114868              Evidence 3  \n",
      "114869                 Claim 6  \n",
      "114870              Evidence 4  \n",
      "114871  Concluding Statement 1  \n",
      "\n",
      "\n",
      "\n",
      "['Long distance schooling is not a effective way of teaching students. It offers little benefits and raises a multitude of new issues to deal with. It could hinder the student learning process and leave them with a\\xa0less then satisfactory education. It could also stifle the way in which young children and young adults develop important social skills which are needed in the modern world.\\n', '\\n', 'Most students are lazy and tired of the same mundane routine of doing school work day in and day out. The only thing which keeps them on task is a teacher which is\\xa0ever present\\xa0helping them learn and grow, so what would happen if there was no teacher to monitor these students. The students would never accomplish anything meaningful, because they would have too many distractions all around them at home such as TV, video games, snacks, and many more enticing appliances and goods to steer their attention from\\xa0that of education.\\n', '\\n', 'Students need teachers present to help them with their studies more than anything else in their learning career. A teacher over video or call could be less efficient and more irritated by the technology which could seriously hinder the student learning experience and\\xa0the teachers ability to teach. Many older and more experienced teachers could find it hard to adapt to the new technology or outright refuse to use it out of frustration. This would restrict those students at home from getting the best possible education\\xa0from the most experienced of\\xa0teachers.\\n', '\\n', 'Students need a healthy and large dose of social interaction with other students to properly develop important social skills. Students need this sort of interaction and it plays a key role in not just their education, but their entire life. A long distance learning program could shut these particular students off from the rest of society causing many unseen\\xa0mental and physical effects. These students would then be unprepared fof the challenges ahead in life and leave them at a disadvantage when compared to other students.\\n', '\\n', 'What about students with disabilities? Wouldnt it be easier for both the school system and the student with the disability to just stay at home? Most school systems already have a well organized and defined public transportation system to take them to school and many schools already offer specialized classes and programs specifically for these less gifted students. What if the student is sick or wants to stay at home? Schools already are integrated well enough into the internet that teachers can give them assignments and classwork while they are at home sick and if a students wants to work from home there is always the option of home schooling and private tutors.\\n', '\\n', 'In the end, most students are better off just going to school and learning under the guidance of physical teachers and interacting with other students in the school environment. Long distance learning programs offer more issues than benefits and would stifle the way in which students learn and grow in many different ways. This is why long distance learning programs are not a viable alternative to traditional schools.']\n"
     ]
    }
   ],
   "source": [
    "pd.set_option('display.max_colwidth', None)\n",
    "x = np.random.randint(0,[144293])[0]\n",
    "print(data.iloc[x].id)\n",
    "print()\n",
    "print(data[data.id==data.loc[x].id][[\"discourse_text\",\"discourse_type_num\"]])\n",
    "print(\"\\n\\n\")\n",
    "str(data.iloc[x].id)+'.txt'\n",
    "with open('train/'+str(data.iloc[x].id)+'.txt') as f:\n",
    "    lines = f.readlines()\n",
    "    print(lines)"
   ]
  },
  {
   "cell_type": "markdown",
   "id": "b908f4be",
   "metadata": {},
   "source": [
    "## Following the tensorflow BERT tutorial"
   ]
  },
  {
   "cell_type": "code",
   "execution_count": 13,
   "id": "3e16fc6b",
   "metadata": {},
   "outputs": [
    {
     "name": "stderr",
     "output_type": "stream",
     "text": [
      "2022-05-22 17:51:45.023479: I tensorflow/core/platform/cpu_feature_guard.cc:151] This TensorFlow binary is optimized with oneAPI Deep Neural Network Library (oneDNN) to use the following CPU instructions in performance-critical operations:  AVX2 FMA\n",
      "To enable them in other operations, rebuild TensorFlow with the appropriate compiler flags.\n"
     ]
    }
   ],
   "source": [
    "\n",
    "\n",
    "import os\n",
    "\n",
    "import numpy as np\n",
    "import matplotlib.pyplot as plt\n",
    "\n",
    "import tensorflow as tf\n",
    "\n",
    "import tensorflow_hub as hub\n",
    "\n",
    "import tensorflow.keras as keras\n",
    "\n",
    "import tensorflow_text as text\n",
    "\n",
    "import bert\n",
    "\n",
    "from transformers import TFBertModel, BertConfig, BertTokenizer\n",
    "\n",
    "from tensorflow.keras import layers\n",
    "\n",
    "from tokenizers import BertWordPieceTokenizer"
   ]
  },
  {
   "cell_type": "code",
   "execution_count": 16,
   "id": "59e4a0c8",
   "metadata": {},
   "outputs": [],
   "source": [
    "max_len = 364\n",
    "configuration = BertConfig(output_hidden_states=True)"
   ]
  },
  {
   "cell_type": "markdown",
   "id": "e4ea3103",
   "metadata": {},
   "source": [
    "## tutorial from keras.io text extraction with BERT\n"
   ]
  },
  {
   "cell_type": "code",
   "execution_count": 29,
   "id": "0bd13ab2",
   "metadata": {
    "scrolled": true
   },
   "outputs": [],
   "source": [
    "# Save the slow pretrained tokenizer\n",
    "slow_tokenizer = BertTokenizer.from_pretrained(\"bert-base-uncased\")\n",
    "save_path = \"bert_base_uncased/\"\n",
    "if not os.path.exists(save_path):\n",
    "    os.makedirs(save_path)\n",
    "slow_tokenizer.save_pretrained(save_path)\n",
    "\n",
    "# Load the fast tokenizer from saved file\n",
    "tokenizer = BertTokenizer(\"bert_base_uncased/vocab.txt\", lowercase=True)"
   ]
  },
  {
   "cell_type": "code",
   "execution_count": 20,
   "id": "b6c80f92",
   "metadata": {},
   "outputs": [
    {
     "name": "stderr",
     "output_type": "stream",
     "text": [
      "Some layers from the model checkpoint at bert-base-uncased were not used when initializing TFBertModel: ['mlm___cls', 'nsp___cls']\n",
      "- This IS expected if you are initializing TFBertModel from the checkpoint of a model trained on another task or with another architecture (e.g. initializing a BertForSequenceClassification model from a BertForPreTraining model).\n",
      "- This IS NOT expected if you are initializing TFBertModel from the checkpoint of a model that you expect to be exactly identical (initializing a BertForSequenceClassification model from a BertForSequenceClassification model).\n",
      "All the layers of TFBertModel were initialized from the model checkpoint at bert-base-uncased.\n",
      "If your task is similar to the task the model of the checkpoint was trained on, you can already use TFBertModel for predictions without further training.\n"
     ]
    }
   ],
   "source": [
    "model = TFBertModel.from_pretrained(\"bert-base-uncased\", config=configuration)"
   ]
  },
  {
   "cell_type": "code",
   "execution_count": 94,
   "id": "728814a9",
   "metadata": {},
   "outputs": [
    {
     "name": "stdout",
     "output_type": "stream",
     "text": [
      "{'input_ids': <tf.Tensor: shape=(1, 16), dtype=int32, numpy=\n",
      "array([[ 101, 2028, 2460, 6251, 1012, 7592, 2767, 1012, 2178, 6251, 2206,\n",
      "        1996, 2034, 2028, 1012,  102]], dtype=int32)>, 'token_type_ids': <tf.Tensor: shape=(1, 16), dtype=int32, numpy=array([[0, 0, 0, 0, 0, 0, 0, 0, 0, 0, 0, 0, 0, 0, 0, 0]], dtype=int32)>, 'attention_mask': <tf.Tensor: shape=(1, 16), dtype=int32, numpy=array([[1, 1, 1, 1, 1, 1, 1, 1, 1, 1, 1, 1, 1, 1, 1, 1]], dtype=int32)>}\n"
     ]
    }
   ],
   "source": [
    "tokens = tokenizer.encode_plus(\"One short sentence. Hello friend. Another sentence following the first one.\", # maximum length of a sentence\n",
    "    pad_to_max_length=True,  # Add [PAD]s\n",
    "    return_attention_mask = True,  # Generate the attention mask\n",
    "    return_tensors = 'tf'\n",
    "                              )\n",
    "print(tokens)"
   ]
  },
  {
   "cell_type": "code",
   "execution_count": 92,
   "id": "30ad2729",
   "metadata": {},
   "outputs": [
    {
     "data": {
      "text/plain": [
       "<tf.Tensor: shape=(1, 13, 768), dtype=float32, numpy=\n",
       "array([[[-0.04330348, -0.43160006, -0.25855863, ..., -0.13383485,\n",
       "          0.24092546,  0.6541908 ],\n",
       "        [ 0.00357973, -0.18293405, -0.59827894, ...,  0.4211854 ,\n",
       "          0.6084603 ,  0.7320007 ],\n",
       "        [ 0.01276102, -0.07644756, -0.47759768, ...,  0.17588267,\n",
       "          0.17959096,  0.04568395],\n",
       "        ...,\n",
       "        [-0.08308049, -0.46513623,  0.05699179, ...,  0.6328881 ,\n",
       "         -0.24904189,  0.47849324],\n",
       "        [-0.4346448 , -1.1864307 , -0.17813374, ...,  0.6588854 ,\n",
       "          0.35249257, -0.23253769],\n",
       "        [ 1.117501  ,  0.12307017, -0.41616908, ...,  0.2934941 ,\n",
       "         -0.44410396, -0.26726088]]], dtype=float32)>"
      ]
     },
     "execution_count": 92,
     "metadata": {},
     "output_type": "execute_result"
    }
   ],
   "source": [
    "model(tokens).last_hidden_state"
   ]
  },
  {
   "cell_type": "code",
   "execution_count": 77,
   "id": "5949429c",
   "metadata": {},
   "outputs": [
    {
     "data": {
      "text/plain": [
       "<tf.Tensor: shape=(1, 12, 768), dtype=float32, numpy=\n",
       "array([[[-0.11370594,  0.11691775, -0.10730496, ..., -0.3399709 ,\n",
       "          0.2530314 ,  0.6903751 ],\n",
       "        [-0.51107824, -0.08288598,  0.24628703, ..., -0.13993774,\n",
       "          0.03633105,  0.894439  ],\n",
       "        [-0.19683118, -0.20921662,  0.19922468, ..., -0.02733088,\n",
       "          0.11338456,  1.0472364 ],\n",
       "        ...,\n",
       "        [ 0.60888886, -0.40845504,  0.10645159, ..., -0.7748293 ,\n",
       "         -0.20368706, -0.04161462],\n",
       "        [ 0.10792276, -0.7061552 , -0.71147954, ...,  0.37472823,\n",
       "          0.5758974 ,  0.1508598 ],\n",
       "        [ 0.7728993 ,  0.31993365,  0.03112878, ..., -0.04425373,\n",
       "         -0.58441895, -0.39986992]]], dtype=float32)>"
      ]
     },
     "execution_count": 77,
     "metadata": {},
     "output_type": "execute_result"
    }
   ],
   "source": []
  },
  {
   "cell_type": "code",
   "execution_count": 70,
   "id": "e945117d",
   "metadata": {},
   "outputs": [
    {
     "data": {
      "text/plain": [
       "{'input_ids': <tf.Tensor: shape=(1, 12), dtype=int32, numpy=\n",
       "array([[ 101, 2023, 2003, 1037, 2235, 6251, 1012, 2079, 2017, 2228, 1012,\n",
       "         102]], dtype=int32)>, 'token_type_ids': <tf.Tensor: shape=(1, 12), dtype=int32, numpy=array([[0, 0, 0, 0, 0, 0, 0, 0, 0, 0, 0, 0]], dtype=int32)>, 'attention_mask': <tf.Tensor: shape=(1, 12), dtype=int32, numpy=array([[1, 1, 1, 1, 1, 1, 1, 1, 1, 1, 1, 1]], dtype=int32)>}"
      ]
     },
     "execution_count": 70,
     "metadata": {},
     "output_type": "execute_result"
    }
   ],
   "source": [
    "tokens"
   ]
  },
  {
   "cell_type": "code",
   "execution_count": 75,
   "id": "22122e49",
   "metadata": {},
   "outputs": [
    {
     "name": "stdout",
     "output_type": "stream",
     "text": [
      "3\n",
      "13\n"
     ]
    }
   ],
   "source": [
    "outputs = model(tokens)\n",
    "print(len(outputs))  # 3\n",
    "\n",
    "hidden_states = outputs[2]\n",
    "print(len(hidden_states))  # 13\n",
    "\n",
    "embedding_output = hidden_states[0]\n",
    "attention_hidden_states = hidden_states[1:]"
   ]
  },
  {
   "cell_type": "code",
   "execution_count": 72,
   "id": "b79b811e",
   "metadata": {},
   "outputs": [
    {
     "data": {
      "text/plain": [
       "<tf.Tensor: shape=(1, 12, 768), dtype=float32, numpy=\n",
       "array([[[ 0.0275531 ,  0.08170424, -0.19442308, ...,  0.19673142,\n",
       "         -0.05109045, -0.04150626],\n",
       "        [-0.27459124,  0.5469533 , -0.0483494 , ..., -0.06561171,\n",
       "          0.73613364, -0.06316672],\n",
       "        [-0.67564356, -0.28551233, -0.3209033 , ...,  0.03838013,\n",
       "          0.59317213,  0.42055178],\n",
       "        ...,\n",
       "        [ 0.3208072 ,  1.6667576 , -0.43726265, ..., -0.4571311 ,\n",
       "          0.65049875,  0.08205651],\n",
       "        [-0.28193778,  0.22680502, -0.07195218, ...,  0.30056   ,\n",
       "          0.22677585,  0.47493428],\n",
       "        [-0.39145806,  0.06265244, -0.06244208, ..., -0.16808726,\n",
       "          0.34583154,  0.14431481]]], dtype=float32)>"
      ]
     },
     "execution_count": 72,
     "metadata": {},
     "output_type": "execute_result"
    }
   ],
   "source": [
    "hidden_states[1]"
   ]
  },
  {
   "cell_type": "code",
   "execution_count": null,
   "id": "101b7328",
   "metadata": {},
   "outputs": [],
   "source": []
  }
 ],
 "metadata": {
  "kernelspec": {
   "display_name": "Python 3 (ipykernel)",
   "language": "python",
   "name": "python3"
  },
  "language_info": {
   "codemirror_mode": {
    "name": "ipython",
    "version": 3
   },
   "file_extension": ".py",
   "mimetype": "text/x-python",
   "name": "python",
   "nbconvert_exporter": "python",
   "pygments_lexer": "ipython3",
   "version": "3.10.1"
  }
 },
 "nbformat": 4,
 "nbformat_minor": 5
}
